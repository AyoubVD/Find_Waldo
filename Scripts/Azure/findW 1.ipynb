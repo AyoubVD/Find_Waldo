{
 "cells": [
  {
   "cell_type": "code",
   "execution_count": 20,
   "metadata": {},
   "outputs": [],
   "source": [
    "from azure.cognitiveservices.vision.customvision.training import CustomVisionTrainingClient\n",
    "from azure.cognitiveservices.vision.customvision.prediction import CustomVisionPredictionClient\n",
    "from azure.cognitiveservices.vision.customvision.training.models import ImageFileCreateBatch, ImageFileCreateEntry, Region\n",
    "from msrest.authentication import ApiKeyCredentials\n",
    "from azure.cognitiveservices.vision.computervision import ComputerVisionClient\n",
    "from msrest.authentication import CognitiveServicesCredentials\n",
    "from azure.cognitiveservices.vision.computervision.models import VisualFeatureTypes\n",
    "import os, time, uuid\n",
    "\n",
    "from array import array\n",
    "import os\n",
    "from PIL import Image\n",
    "import sys\n",
    "import time"
   ]
  },
  {
   "cell_type": "code",
   "execution_count": 15,
   "metadata": {},
   "outputs": [],
   "source": [
    "# Replace with valid values\n",
    "ENDPOINT = \"https://westeurope.api.cognitive.microsoft.com\"\n",
    "training_key = \"b7814bb0629b4b9fa7d780ec93c2d989\"\n",
    "prediction_key = \"93c27063-f1c1-46dc-b8db-f61e08a19cd2\"\n",
    "prediction_resource_id = \"/subscriptions/a8260178-3b6d-4bce-a07e-3aae8c7a62af/resourceGroups/RG-Internship-Ayoub/providers/Microsoft.CognitiveServices/accounts/Waldo\""
   ]
  },
  {
   "cell_type": "code",
   "execution_count": 16,
   "metadata": {},
   "outputs": [],
   "source": [
    "api_key = \"b7814bb0629b4b9fa7d780ec93c2d989\"\n",
    "endpoint = \"https://westeurope.api.cognitive.microsoft.com/\"\n",
    "\n",
    "computervision_client = ComputerVisionClient(endpoint, CognitiveServicesCredentials(api_key))"
   ]
  },
  {
   "cell_type": "code",
   "execution_count": 18,
   "metadata": {},
   "outputs": [],
   "source": [
    "\n",
    "# Set credentials\n",
    "credentials = CognitiveServicesCredentials(api_key)\n",
    "\n",
    "# Create client\n",
    "client = ComputerVisionClient(endpoint, credentials)"
   ]
  },
  {
   "cell_type": "code",
   "execution_count": 22,
   "metadata": {},
   "outputs": [
    {
     "name": "stdout",
     "output_type": "stream",
     "text": [
      "{'additional_properties': {}, 'name': 'drawing', 'confidence': 0.9591256380081177, 'hint': None}\n",
      "{'additional_properties': {}, 'name': 'sketch', 'confidence': 0.9374881982803345, 'hint': None}\n",
      "{'additional_properties': {}, 'name': 'child art', 'confidence': 0.8888988494873047, 'hint': None}\n",
      "{'additional_properties': {}, 'name': 'illustration', 'confidence': 0.8861421346664429, 'hint': None}\n",
      "{'additional_properties': {}, 'name': 'clipart', 'confidence': 0.8688925504684448, 'hint': None}\n",
      "{'additional_properties': {}, 'name': 'line art', 'confidence': 0.8447473645210266, 'hint': None}\n",
      "{'additional_properties': {}, 'name': 'cartoon', 'confidence': 0.8390937447547913, 'hint': None}\n",
      "{'additional_properties': {}, 'name': 'art', 'confidence': 0.803320050239563, 'hint': None}\n"
     ]
    }
   ],
   "source": [
    "# Analyze image\n",
    "url = \"https://external-content.duckduckgo.com/iu/?u=https%3A%2F%2Fyt3.ggpht.com%2Fa%2FAATXAJy5BSC61C09EllUFufUegvLqgHF3aFVTZ1i0A%3Ds900-c-k-c0xffffffff-no-rj-mo&f=1&nofb=1\"\n",
    "\n",
    "image_analysis = client.analyze_image(url,visual_features=[VisualFeatureTypes.tags])\n",
    "\n",
    "for tag in image_analysis.tags:\n",
    "    print(tag)\n"
   ]
  },
  {
   "cell_type": "code",
   "execution_count": null,
   "metadata": {},
   "outputs": [],
   "source": []
  }
 ],
 "metadata": {
  "interpreter": {
   "hash": "2411f5f3d7e861251d7502aa3359f9aaff1ebba267f05128cfbfe1330de087e5"
  },
  "kernelspec": {
   "display_name": "Python 3.7.13 ('autoML')",
   "language": "python",
   "name": "python3"
  },
  "language_info": {
   "codemirror_mode": {
    "name": "ipython",
    "version": 3
   },
   "file_extension": ".py",
   "mimetype": "text/x-python",
   "name": "python",
   "nbconvert_exporter": "python",
   "pygments_lexer": "ipython3",
   "version": "3.7.13"
  },
  "orig_nbformat": 4
 },
 "nbformat": 4,
 "nbformat_minor": 2
}
