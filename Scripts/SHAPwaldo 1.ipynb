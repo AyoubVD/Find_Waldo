{
 "cells": [
  {
   "cell_type": "code",
   "execution_count": 33,
   "metadata": {},
   "outputs": [],
   "source": [
    "from __future__ import print_function\n",
    "import shap\n",
    "import numpy as np\n",
    "import tensorflow as tf\n",
    "import numpy as np\n",
    "from tensorflow import keras\n",
    "from tensorflow.keras.datasets import mnist\n",
    "from tensorflow.keras.models import Sequential\n",
    "from tensorflow.keras.layers import Dense, Dropout, Flatten\n",
    "from tensorflow.keras.layers import Conv2D, MaxPooling2D\n",
    "from tensorflow.keras import backend as K\n",
    "from keras.preprocessing import image\n",
    "from keras.preprocessing.image import ImageDataGenerator\n",
    "from tensorflow.compat.v1 import ConfigProto\n",
    "from tensorflow.compat.v1 import InteractiveSession\n",
    "import datetime\n",
    "#To enable them in other operations, rebuild TensorFlow with the appropriate compiler flags.\n",
    "import os"
   ]
  },
  {
   "cell_type": "code",
   "execution_count": 34,
   "metadata": {},
   "outputs": [
    {
     "name": "stdout",
     "output_type": "stream",
     "text": [
      "<module 'tensorflow._api.v2.version' from 'C:\\\\Users\\\\ayoub\\\\.conda\\\\envs\\\\shap\\\\lib\\\\site-packages\\\\tensorflow\\\\_api\\\\v2\\\\version\\\\__init__.py'>\n"
     ]
    }
   ],
   "source": [
    "print(tf.version)"
   ]
  },
  {
   "cell_type": "code",
   "execution_count": 35,
   "metadata": {},
   "outputs": [
    {
     "name": "stdout",
     "output_type": "stream",
     "text": [
      "Found 3047 images belonging to 2 classes.\n",
      "Found 1309 images belonging to 2 classes.\n"
     ]
    }
   ],
   "source": [
    "# Proprocessing the test and training set\n",
    "train_datagen = ImageDataGenerator(rescale = 1./255, #pixelwaarden normaliseren\n",
    "                                   shear_range = 0.2,\n",
    "                                   zoom_range = 0.2,\n",
    "                                   horizontal_flip = True)\n",
    "training_set = train_datagen.flow_from_directory('C:/Users/ayoub/OneDrive/TMM/Stage fase 3/Arinti/FindWaldo/FindWaldo/Scripts/images/training',\n",
    "                                                 target_size = (64, 64),\n",
    "                                                 batch_size = 32, #hoeveel foto's per keer langs neural netwerk laat passeren\n",
    "                                                 class_mode = 'binary')\n",
    "#fit from generator\n",
    "test_datagen = ImageDataGenerator(rescale = 1./255)\n",
    "test_set = test_datagen.flow_from_directory('C:/Users/ayoub/OneDrive/TMM/Stage fase 3/Arinti/FindWaldo/FindWaldo/Scripts/images/testing',\n",
    "                                            target_size = (64, 64),\n",
    "                                            batch_size = 32,\n",
    "                                            class_mode = 'binary')"
   ]
  },
  {
   "cell_type": "code",
   "execution_count": 36,
   "metadata": {},
   "outputs": [
    {
     "name": "stdout",
     "output_type": "stream",
     "text": [
      "The tensorboard extension is already loaded. To reload it, use:\n",
      "  %reload_ext tensorboard\n",
      "96/96 [==============================] - 11s 103ms/step - loss: 0.0808 - accuracy: 0.9797 - val_loss: 0.0452 - val_accuracy: 0.9931\n"
     ]
    },
    {
     "data": {
      "text/html": [
       "\n",
       "      <iframe id=\"tensorboard-frame-586bc70fe4f104d1\" width=\"100%\" height=\"800\" frameborder=\"0\">\n",
       "      </iframe>\n",
       "      <script>\n",
       "        (function() {\n",
       "          const frame = document.getElementById(\"tensorboard-frame-586bc70fe4f104d1\");\n",
       "          const url = new URL(\"/\", window.location);\n",
       "          const port = 6006;\n",
       "          if (port) {\n",
       "            url.port = port;\n",
       "          }\n",
       "          frame.src = url;\n",
       "        })();\n",
       "      </script>\n",
       "    "
      ],
      "text/plain": [
       "<IPython.core.display.HTML object>"
      ]
     },
     "metadata": {},
     "output_type": "display_data"
    },
    {
     "data": {
      "text/html": [
       "\n",
       "      <iframe id=\"tensorboard-frame-22eb6bc52592abb4\" width=\"100%\" height=\"800\" frameborder=\"0\">\n",
       "      </iframe>\n",
       "      <script>\n",
       "        (function() {\n",
       "          const frame = document.getElementById(\"tensorboard-frame-22eb6bc52592abb4\");\n",
       "          const url = new URL(\"/\", window.location);\n",
       "          const port = 6006;\n",
       "          if (port) {\n",
       "            url.port = port;\n",
       "          }\n",
       "          frame.src = url;\n",
       "        })();\n",
       "      </script>\n",
       "    "
      ],
      "text/plain": [
       "<IPython.core.display.HTML object>"
      ]
     },
     "metadata": {},
     "output_type": "display_data"
    }
   ],
   "source": [
    "%load_ext tensorboard\n",
    "\n",
    "# Initialising the CNN\n",
    "cnn = tf.keras.models.Sequential() # layers gaan op elkaar volgen\n",
    "\n",
    "# Add convolution layer\n",
    "cnn.add(tf.keras.layers.Conv2D(filters=32, kernel_size=3, activation='relu', input_shape=[64, 64, 3]))\n",
    "\n",
    "# Pooling\n",
    "cnn.add(tf.keras.layers.MaxPool2D(pool_size=2, strides=2))\n",
    "\n",
    "# Add convolution layer\n",
    "cnn.add(tf.keras.layers.Conv2D(filters=32, kernel_size=3, activation='relu'))\n",
    "\n",
    "# Pooling\n",
    "cnn.add(tf.keras.layers.MaxPool2D(pool_size=(2,2), strides=2))\n",
    "\n",
    "# Flattening\n",
    "cnn.add(tf.keras.layers.Flatten()) # full connection maken (zorgt voor features)\n",
    "\n",
    "# Full connection\n",
    "cnn.add(tf.keras.layers.Dense(units=128, activation='relu'))\n",
    "\n",
    "# Output layer\n",
    "cnn.add(tf.keras.layers.Dense(units=1, activation='sigmoid')) # sigmoid = input transformeren naar 0-1\n",
    "\n",
    "#When training with Keras's Model.fit(), adding the tf.keras.callbacks.\n",
    "#TensorBoard callback ensures that logs are created and stored. \n",
    "#Additionally, enable histogram computation every epoch with histogram_freq=1 (this is off by default)\n",
    "log_dir = \"/TensorBoard/\" + datetime.datetime.now().strftime(\"%Y%m%d-%H%M%S\")\n",
    "tensorboard_callback = tf.keras.callbacks.TensorBoard(log_dir=log_dir, histogram_freq=1)\n",
    "\n",
    "\n",
    "# Compile CNN\n",
    "cnn.compile(optimizer = 'adam', loss = 'binary_crossentropy', metrics = ['accuracy'])\n",
    "\n",
    "cnn.fit(x = training_set, validation_data = test_set, epochs = 1)\n",
    "\n",
    "%tensorboard --logdir TensorBoard/fit\n",
    "%tensorboard --logdir TensorBoard/scalars"
   ]
  },
  {
   "cell_type": "code",
   "execution_count": 37,
   "metadata": {},
   "outputs": [
    {
     "name": "stdout",
     "output_type": "stream",
     "text": [
      "Tested positive for Waldo! :D\n"
     ]
    }
   ],
   "source": [
    "# Making a prediction\n",
    "test_image = image.load_img('C:/Users/ayoub/OneDrive/TMM/Stage fase 3/Arinti/FindWaldo/FindWaldo/Scripts/images/testing/waldo/12_2_1.jpg', target_size = (64, 64))\n",
    "test_image = image.img_to_array(test_image)\n",
    "test_image = np.expand_dims(test_image, axis = 0)\n",
    "result = cnn.predict(test_image)\n",
    "training_set.class_indices\n",
    "if result[0][0] == 1:\n",
    "  print(\"Tested negative for Waldo :'(\")\n",
    "else:\n",
    "  print('Tested positive for Waldo! :D')"
   ]
  },
  {
   "cell_type": "code",
   "execution_count": 38,
   "metadata": {},
   "outputs": [
    {
     "name": "stdout",
     "output_type": "stream",
     "text": [
      "Test loss: 0.04520579054951668\n",
      "Test accuracy: 0.9931245446205139\n"
     ]
    }
   ],
   "source": [
    "x_train, y_train = next(training_set)\n",
    "x_test, y_test = next(test_set)\n",
    "#model.fit(x = training_set, validation_data = test_set, epochs = 1)\n",
    "score = cnn.evaluate(test_set, verbose=0) \n",
    "print('Test loss:', score[0])\n",
    "print('Test accuracy:', score[1])"
   ]
  },
  {
   "cell_type": "code",
   "execution_count": 39,
   "metadata": {},
   "outputs": [],
   "source": [
    "# select a set of background examples to take an expectation over\n",
    "background = x_train[np.random.choice(x_train.shape[0], 100, replace=True)]"
   ]
  },
  {
   "cell_type": "code",
   "execution_count": 40,
   "metadata": {},
   "outputs": [],
   "source": [
    "# explain predictions of the model (named cnn in this case) on three images\n",
    "#e = shap.DeepExplainer(cnn, background)\n",
    "e = shap.DeepExplainer((cnn.layers[0].input, cnn.layers[-1].output), background)"
   ]
  },
  {
   "cell_type": "code",
   "execution_count": 41,
   "metadata": {},
   "outputs": [
    {
     "name": "stdout",
     "output_type": "stream",
     "text": [
      "FuncGraph(name=keras_graph, id=2675238023072)\n"
     ]
    }
   ],
   "source": [
    "from tensorflow.python.keras import backend\n",
    "graph = backend.get_graph()\n",
    "print(graph)\n",
    "#return explainer.model_output.graph"
   ]
  },
  {
   "cell_type": "code",
   "execution_count": 42,
   "metadata": {},
   "outputs": [
    {
     "name": "stdout",
     "output_type": "stream",
     "text": [
      "[array([[[[-8.96248631e-10, -2.62851376e-08, -1.31589999e-07],\n",
      "         [-5.12888612e-08, -3.06163571e-07,  1.11735808e-07],\n",
      "         [ 5.60603894e-07, -4.74160544e-07, -2.67155229e-07],\n",
      "         ...,\n",
      "         [-7.04347300e-08, -4.95301009e-08,  8.86589007e-08],\n",
      "         [ 0.00000000e+00,  0.00000000e+00,  0.00000000e+00],\n",
      "         [ 0.00000000e+00,  0.00000000e+00,  0.00000000e+00]],\n",
      "\n",
      "        [[ 5.83678776e-08, -9.80215997e-09, -1.18239228e-07],\n",
      "         [-3.36068808e-07,  1.54505742e-07, -2.24200267e-08],\n",
      "         [-6.09566513e-08,  2.97451635e-07, -2.47460665e-08],\n",
      "         ...,\n",
      "         [-6.28890149e-08,  2.02361683e-08,  1.06668043e-08],\n",
      "         [ 0.00000000e+00,  0.00000000e+00,  0.00000000e+00],\n",
      "         [ 0.00000000e+00,  0.00000000e+00,  0.00000000e+00]],\n",
      "\n",
      "        [[ 4.78326626e-07,  1.43323788e-07, -7.09812639e-07],\n",
      "         [ 4.78596917e-07, -1.61043857e-07,  8.44553085e-07],\n",
      "         [ 3.37315868e-07,  8.00890291e-07,  4.55581215e-07],\n",
      "         ...,\n",
      "         [-4.15206188e-07, -5.63153471e-08, -4.95048873e-08],\n",
      "         [ 0.00000000e+00,  0.00000000e+00,  0.00000000e+00],\n",
      "         [ 0.00000000e+00,  0.00000000e+00,  0.00000000e+00]],\n",
      "\n",
      "        ...,\n",
      "\n",
      "        [[-5.59891511e-09,  2.78641665e-09, -3.83908949e-09],\n",
      "         [-3.58047880e-09,  2.86640645e-09, -1.38326222e-08],\n",
      "         [-3.62170397e-07, -4.80215654e-08,  1.34720352e-07],\n",
      "         ...,\n",
      "         [ 3.36759172e-07, -2.97138598e-08, -9.39512290e-09],\n",
      "         [ 0.00000000e+00,  0.00000000e+00,  0.00000000e+00],\n",
      "         [ 0.00000000e+00,  0.00000000e+00,  0.00000000e+00]],\n",
      "\n",
      "        [[ 0.00000000e+00,  0.00000000e+00,  0.00000000e+00],\n",
      "         [ 0.00000000e+00,  0.00000000e+00,  0.00000000e+00],\n",
      "         [ 0.00000000e+00,  0.00000000e+00,  0.00000000e+00],\n",
      "         ...,\n",
      "         [ 0.00000000e+00,  0.00000000e+00,  0.00000000e+00],\n",
      "         [ 0.00000000e+00,  0.00000000e+00,  0.00000000e+00],\n",
      "         [ 0.00000000e+00,  0.00000000e+00,  0.00000000e+00]],\n",
      "\n",
      "        [[ 0.00000000e+00,  0.00000000e+00,  0.00000000e+00],\n",
      "         [ 0.00000000e+00,  0.00000000e+00,  0.00000000e+00],\n",
      "         [ 0.00000000e+00,  0.00000000e+00,  0.00000000e+00],\n",
      "         ...,\n",
      "         [ 0.00000000e+00,  0.00000000e+00,  0.00000000e+00],\n",
      "         [ 0.00000000e+00,  0.00000000e+00,  0.00000000e+00],\n",
      "         [ 0.00000000e+00,  0.00000000e+00,  0.00000000e+00]]],\n",
      "\n",
      "\n",
      "       [[[-5.49876011e-09,  9.99002392e-09,  3.74883271e-08],\n",
      "         [ 9.12609437e-08,  1.50934358e-08,  3.20470335e-08],\n",
      "         [ 1.72785846e-07,  2.22728374e-07,  1.16510819e-07],\n",
      "         ...,\n",
      "         [-1.02416720e-06, -1.74405017e-07,  4.89584750e-07],\n",
      "         [ 0.00000000e+00,  0.00000000e+00,  0.00000000e+00],\n",
      "         [ 0.00000000e+00,  0.00000000e+00,  0.00000000e+00]],\n",
      "\n",
      "        [[ 3.34748869e-08, -2.55285677e-08,  2.18701377e-08],\n",
      "         [-2.20151847e-07, -3.70221152e-08,  1.02049968e-08],\n",
      "         [-3.12752559e-06,  1.73146327e-06,  4.13954524e-07],\n",
      "         ...,\n",
      "         [-2.17682697e-07, -2.31409956e-07, -6.40981682e-07],\n",
      "         [ 0.00000000e+00,  0.00000000e+00,  0.00000000e+00],\n",
      "         [ 0.00000000e+00,  0.00000000e+00,  0.00000000e+00]],\n",
      "\n",
      "        [[-1.63958855e-08,  5.30997575e-08, -4.30961755e-09],\n",
      "         [ 2.68972940e-07,  1.75570150e-07,  1.27373127e-07],\n",
      "         [-2.26560519e-06,  2.14964800e-07,  9.26237249e-07],\n",
      "         ...,\n",
      "         [ 7.89301495e-08, -6.01202942e-07, -1.03752700e-06],\n",
      "         [ 0.00000000e+00,  0.00000000e+00,  0.00000000e+00],\n",
      "         [ 0.00000000e+00,  0.00000000e+00,  0.00000000e+00]],\n",
      "\n",
      "        ...,\n",
      "\n",
      "        [[-4.05039096e-08, -3.40621327e-08,  1.10383849e-06],\n",
      "         [-3.61895616e-07, -8.47420154e-07,  1.29762236e-06],\n",
      "         [-2.26407201e-06,  1.01526257e-06,  1.11800171e-06],\n",
      "         ...,\n",
      "         [ 3.63368429e-07, -1.04898099e-07,  2.35819030e-07],\n",
      "         [ 0.00000000e+00,  0.00000000e+00,  0.00000000e+00],\n",
      "         [ 0.00000000e+00,  0.00000000e+00,  0.00000000e+00]],\n",
      "\n",
      "        [[ 0.00000000e+00,  0.00000000e+00,  0.00000000e+00],\n",
      "         [ 0.00000000e+00,  0.00000000e+00,  0.00000000e+00],\n",
      "         [ 0.00000000e+00,  0.00000000e+00,  0.00000000e+00],\n",
      "         ...,\n",
      "         [ 0.00000000e+00,  0.00000000e+00,  0.00000000e+00],\n",
      "         [ 0.00000000e+00,  0.00000000e+00,  0.00000000e+00],\n",
      "         [ 0.00000000e+00,  0.00000000e+00,  0.00000000e+00]],\n",
      "\n",
      "        [[ 0.00000000e+00,  0.00000000e+00,  0.00000000e+00],\n",
      "         [ 0.00000000e+00,  0.00000000e+00,  0.00000000e+00],\n",
      "         [ 0.00000000e+00,  0.00000000e+00,  0.00000000e+00],\n",
      "         ...,\n",
      "         [ 0.00000000e+00,  0.00000000e+00,  0.00000000e+00],\n",
      "         [ 0.00000000e+00,  0.00000000e+00,  0.00000000e+00],\n",
      "         [ 0.00000000e+00,  0.00000000e+00,  0.00000000e+00]]],\n",
      "\n",
      "\n",
      "       [[[-3.31821695e-07, -1.24389976e-06, -2.89769474e-07],\n",
      "         [ 1.59519203e-07, -3.31923343e-06, -2.31937477e-07],\n",
      "         [ 3.66848809e-07, -1.68851659e-06, -6.28465955e-08],\n",
      "         ...,\n",
      "         [ 6.08091568e-08,  2.01823241e-07,  5.03303056e-07],\n",
      "         [ 0.00000000e+00,  0.00000000e+00,  0.00000000e+00],\n",
      "         [ 0.00000000e+00,  0.00000000e+00,  0.00000000e+00]],\n",
      "\n",
      "        [[ 5.03946353e-07,  3.92972515e-06, -7.62500292e-07],\n",
      "         [-8.07059450e-07,  2.24170208e-06, -1.22565120e-06],\n",
      "         [ 7.54997529e-07,  2.17538036e-06, -5.09464917e-06],\n",
      "         ...,\n",
      "         [ 1.92492666e-06, -6.01509612e-07, -1.72225626e-07],\n",
      "         [ 0.00000000e+00,  0.00000000e+00,  0.00000000e+00],\n",
      "         [ 0.00000000e+00,  0.00000000e+00,  0.00000000e+00]],\n",
      "\n",
      "        [[-9.33559363e-07,  3.28090482e-06,  1.97444592e-06],\n",
      "         [-6.69691303e-07,  1.55561577e-06,  2.02651222e-06],\n",
      "         [ 1.55485429e-06,  2.54352585e-06,  6.53445659e-06],\n",
      "         ...,\n",
      "         [-2.78606024e-07,  3.98001475e-07,  1.52154371e-06],\n",
      "         [ 0.00000000e+00,  0.00000000e+00,  0.00000000e+00],\n",
      "         [ 0.00000000e+00,  0.00000000e+00,  0.00000000e+00]],\n",
      "\n",
      "        ...,\n",
      "\n",
      "        [[ 1.36402045e-08,  1.37419647e-06,  3.08241283e-07],\n",
      "         [-6.06265758e-08,  8.17691557e-07,  3.74038052e-07],\n",
      "         [-3.82168366e-07,  5.07139248e-07,  1.67761721e-06],\n",
      "         ...,\n",
      "         [-2.03060836e-06, -9.43941075e-07,  2.55172540e-06],\n",
      "         [ 0.00000000e+00,  0.00000000e+00,  0.00000000e+00],\n",
      "         [ 0.00000000e+00,  0.00000000e+00,  0.00000000e+00]],\n",
      "\n",
      "        [[ 0.00000000e+00,  0.00000000e+00,  0.00000000e+00],\n",
      "         [ 0.00000000e+00,  0.00000000e+00,  0.00000000e+00],\n",
      "         [ 0.00000000e+00,  0.00000000e+00,  0.00000000e+00],\n",
      "         ...,\n",
      "         [ 0.00000000e+00,  0.00000000e+00,  0.00000000e+00],\n",
      "         [ 0.00000000e+00,  0.00000000e+00,  0.00000000e+00],\n",
      "         [ 0.00000000e+00,  0.00000000e+00,  0.00000000e+00]],\n",
      "\n",
      "        [[ 0.00000000e+00,  0.00000000e+00,  0.00000000e+00],\n",
      "         [ 0.00000000e+00,  0.00000000e+00,  0.00000000e+00],\n",
      "         [ 0.00000000e+00,  0.00000000e+00,  0.00000000e+00],\n",
      "         ...,\n",
      "         [ 0.00000000e+00,  0.00000000e+00,  0.00000000e+00],\n",
      "         [ 0.00000000e+00,  0.00000000e+00,  0.00000000e+00],\n",
      "         [ 0.00000000e+00,  0.00000000e+00,  0.00000000e+00]]]])]\n"
     ]
    }
   ],
   "source": [
    "shap_values = e.shap_values(x_test[1:5][1:5])\n",
    "print(shap_values)"
   ]
  }
 ],
 "metadata": {
  "interpreter": {
   "hash": "92853b521c4364ee2bc314bffcebc643300d4fcf0484a0c07ccb04aa64d90057"
  },
  "kernelspec": {
   "display_name": "Python 3.9.7 ('shap')",
   "language": "python",
   "name": "python3"
  },
  "language_info": {
   "codemirror_mode": {
    "name": "ipython",
    "version": 3
   },
   "file_extension": ".py",
   "mimetype": "text/x-python",
   "name": "python",
   "nbconvert_exporter": "python",
   "pygments_lexer": "ipython3",
   "version": "3.9.10"
  },
  "orig_nbformat": 4
 },
 "nbformat": 4,
 "nbformat_minor": 2
}
