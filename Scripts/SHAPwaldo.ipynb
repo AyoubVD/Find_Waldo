{
 "cells": [
  {
   "cell_type": "code",
   "execution_count": 1,
   "metadata": {},
   "outputs": [],
   "source": [
    "from __future__ import print_function\n",
    "import shap\n",
    "import numpy as np\n",
    "import tensorflow as tf\n",
    "import numpy as np\n",
    "from tensorflow import keras\n",
    "from tensorflow.keras.datasets import mnist\n",
    "from tensorflow.keras.models import Sequential\n",
    "from tensorflow.keras.layers import Dense, Dropout, Flatten\n",
    "from tensorflow.keras.layers import Conv2D, MaxPooling2D\n",
    "from tensorflow.keras import backend as K\n",
    "from keras.preprocessing import image\n",
    "from keras.preprocessing.image import ImageDataGenerator\n",
    "from tensorflow.compat.v1 import ConfigProto\n",
    "from tensorflow.compat.v1 import InteractiveSession\n",
    "#To enable them in other operations, rebuild TensorFlow with the appropriate compiler flags.\n",
    "import os"
   ]
  },
  {
   "cell_type": "code",
   "execution_count": 2,
   "metadata": {},
   "outputs": [
    {
     "name": "stdout",
     "output_type": "stream",
     "text": [
      "<module 'tensorflow._api.v2.version' from 'C:\\\\Users\\\\ayoub\\\\.conda\\\\envs\\\\shap\\\\lib\\\\site-packages\\\\tensorflow\\\\_api\\\\v2\\\\version\\\\__init__.py'>\n"
     ]
    }
   ],
   "source": [
    "print(tf.version)"
   ]
  },
  {
   "cell_type": "code",
   "execution_count": 3,
   "metadata": {},
   "outputs": [
    {
     "name": "stdout",
     "output_type": "stream",
     "text": [
      "Found 3047 images belonging to 2 classes.\n",
      "Found 1309 images belonging to 2 classes.\n"
     ]
    }
   ],
   "source": [
    "# Proprocessing the test and training set\n",
    "train_datagen = ImageDataGenerator(rescale = 1./255, #pixelwaarden normaliseren\n",
    "                                   shear_range = 0.2,\n",
    "                                   zoom_range = 0.2,\n",
    "                                   horizontal_flip = True)\n",
    "training_set = train_datagen.flow_from_directory('C:/Users/ayoub/OneDrive/TMM/Stage fase 3/Arinti/FindWaldo/FindWaldo/Scripts/images/training',\n",
    "                                                 target_size = (64, 64),\n",
    "                                                 batch_size = 32, #hoeveel foto's per keer langs neural netwerk laat passeren\n",
    "                                                 class_mode = 'binary')\n",
    "#fit from generator\n",
    "test_datagen = ImageDataGenerator(rescale = 1./255)\n",
    "test_set = test_datagen.flow_from_directory('C:/Users/ayoub/OneDrive/TMM/Stage fase 3/Arinti/FindWaldo/FindWaldo/Scripts/images/testing',\n",
    "                                            target_size = (64, 64),\n",
    "                                            batch_size = 32,\n",
    "                                            class_mode = 'binary')"
   ]
  },
  {
   "cell_type": "code",
   "execution_count": 4,
   "metadata": {},
   "outputs": [
    {
     "name": "stdout",
     "output_type": "stream",
     "text": [
      "96/96 [==============================] - 16s 155ms/step - loss: 0.0734 - accuracy: 0.9902 - val_loss: 0.0448 - val_accuracy: 0.9931\n"
     ]
    },
    {
     "data": {
      "text/plain": [
       "<tensorflow.python.keras.callbacks.History at 0x21c1051b550>"
      ]
     },
     "execution_count": 4,
     "metadata": {},
     "output_type": "execute_result"
    }
   ],
   "source": [
    "# Initialising the CNN\n",
    "cnn = tf.keras.models.Sequential() # layers gaan op elkaar volgen\n",
    "\n",
    "# Add convolution layer\n",
    "cnn.add(tf.keras.layers.Conv2D(filters=32, kernel_size=3, activation='relu', input_shape=[64, 64, 3]))\n",
    "\n",
    "# Pooling\n",
    "cnn.add(tf.keras.layers.MaxPool2D(pool_size=2, strides=2))\n",
    "\n",
    "# Add convolution layer\n",
    "cnn.add(tf.keras.layers.Conv2D(filters=32, kernel_size=3, activation='relu'))\n",
    "\n",
    "# Pooling\n",
    "cnn.add(tf.keras.layers.MaxPool2D(pool_size=(2,2), strides=2))\n",
    "\n",
    "# Flattening\n",
    "cnn.add(tf.keras.layers.Flatten()) # full connection maken (zorgt voor features)\n",
    "\n",
    "# Full connection\n",
    "cnn.add(tf.keras.layers.Dense(units=128, activation='relu'))\n",
    "\n",
    "# Output layer\n",
    "cnn.add(tf.keras.layers.Dense(units=1, activation='sigmoid')) # sigmoid = input transformeren naar 0-1\n",
    "\n",
    "# Compile CNN\n",
    "cnn.compile(optimizer = 'adam', loss = 'binary_crossentropy', metrics = ['accuracy'])\n",
    "\n",
    "cnn.fit(x = training_set, validation_data = test_set, epochs = 1)\n",
    "\n",
    "%tensorboard --logdir logs/fit"
   ]
  },
  {
   "cell_type": "code",
   "execution_count": 5,
   "metadata": {},
   "outputs": [
    {
     "name": "stdout",
     "output_type": "stream",
     "text": [
      "Tested positive for Waldo! :D\n"
     ]
    }
   ],
   "source": [
    "# Making a prediction\n",
    "test_image = image.load_img('C:/Users/ayoub/OneDrive/TMM/Stage fase 3/Arinti/FindWaldo/FindWaldo/Scripts/images/testing/waldo/12_2_1.jpg', target_size = (64, 64))\n",
    "test_image = image.img_to_array(test_image)\n",
    "test_image = np.expand_dims(test_image, axis = 0)\n",
    "result = cnn.predict(test_image)\n",
    "training_set.class_indices\n",
    "if result[0][0] == 1:\n",
    "  print(\"Tested negative for Waldo :'(\")\n",
    "else:\n",
    "  print('Tested positive for Waldo! :D')"
   ]
  },
  {
   "cell_type": "code",
   "execution_count": 6,
   "metadata": {},
   "outputs": [
    {
     "name": "stdout",
     "output_type": "stream",
     "text": [
      "Test loss: 0.04479275643825531\n",
      "Test accuracy: 0.9931245446205139\n"
     ]
    }
   ],
   "source": [
    "x_train, y_train = next(training_set)\n",
    "x_test, y_test = next(test_set)\n",
    "#model.fit(x = training_set, validation_data = test_set, epochs = 1)\n",
    "score = cnn.evaluate(test_set, verbose=0) \n",
    "print('Test loss:', score[0])\n",
    "print('Test accuracy:', score[1])"
   ]
  },
  {
   "cell_type": "code",
   "execution_count": 7,
   "metadata": {},
   "outputs": [],
   "source": [
    "# select a set of background examples to take an expectation over\n",
    "background = x_train[np.random.choice(x_train.shape[0], 100, replace=True)]"
   ]
  },
  {
   "cell_type": "code",
   "execution_count": 8,
   "metadata": {},
   "outputs": [
    {
     "name": "stderr",
     "output_type": "stream",
     "text": [
      "keras is no longer supported, please use tf.keras instead.\n",
      "Your TensorFlow version is newer than 2.4.0 and so graph support has been removed in eager mode. See PR #1483 for discussion.\n"
     ]
    }
   ],
   "source": [
    "# explain predictions of the model (named cnn in this case) on three images\n",
    "#e = shap.DeepExplainer(cnn, background)\n",
    "e = shap.DeepExplainer((cnn.layers[0].input, cnn.layers[-1].output), background)"
   ]
  },
  {
   "cell_type": "code",
   "execution_count": 16,
   "metadata": {},
   "outputs": [
    {
     "name": "stdout",
     "output_type": "stream",
     "text": [
      "FuncGraph(name=keras_graph, id=2319555082656)\n"
     ]
    }
   ],
   "source": [
    "from tensorflow.python.keras import backend\n",
    "graph = backend.get_graph()\n",
    "print(graph)\n",
    "#return explainer.model_output.graph"
   ]
  },
  {
   "cell_type": "code",
   "execution_count": 9,
   "metadata": {},
   "outputs": [
    {
     "name": "stderr",
     "output_type": "stream",
     "text": [
      "`tf.keras.backend.set_learning_phase` is deprecated and will be removed after 2020-10-11. To update it, simply pass a True/False value to the `training` argument of the `__call__` method of your layer or model.\n"
     ]
    },
    {
     "name": "stdout",
     "output_type": "stream",
     "text": [
      "[array([[[[-1.26543682e-07,  5.32326574e-08,  1.76521823e-07],\n",
      "         [-1.27817486e-07, -1.52756954e-08, -9.46584766e-09],\n",
      "         [-1.05576464e-06, -2.03276244e-07, -1.73813987e-07],\n",
      "         ...,\n",
      "         [ 2.16237225e-07, -1.91443263e-07,  2.06228009e-07],\n",
      "         [ 0.00000000e+00,  0.00000000e+00,  0.00000000e+00],\n",
      "         [ 0.00000000e+00,  0.00000000e+00,  0.00000000e+00]],\n",
      "\n",
      "        [[ 5.25475308e-08, -1.40699470e-08, -5.91677018e-09],\n",
      "         [-6.44168665e-08,  3.22849331e-07, -9.34171283e-08],\n",
      "         [ 1.35796796e-07, -4.69640931e-08,  1.00078836e-07],\n",
      "         ...,\n",
      "         [-7.18697265e-07,  7.83967664e-08, -3.91629214e-07],\n",
      "         [ 0.00000000e+00,  0.00000000e+00,  0.00000000e+00],\n",
      "         [ 0.00000000e+00,  0.00000000e+00,  0.00000000e+00]],\n",
      "\n",
      "        [[-5.50288313e-08, -2.69962129e-07,  5.63896265e-07],\n",
      "         [-1.48587404e-07, -1.80071777e-06, -7.17856040e-07],\n",
      "         [ 1.57780899e-08,  9.28486941e-08, -4.37445919e-07],\n",
      "         ...,\n",
      "         [-3.77950755e-07, -7.24492850e-07, -1.06751611e-06],\n",
      "         [ 0.00000000e+00,  0.00000000e+00,  0.00000000e+00],\n",
      "         [ 0.00000000e+00,  0.00000000e+00,  0.00000000e+00]],\n",
      "\n",
      "        ...,\n",
      "\n",
      "        [[-3.85678822e-09, -2.73383316e-09, -1.79373227e-08],\n",
      "         [ 6.23504377e-08, -1.28889440e-07,  8.99999009e-08],\n",
      "         [-5.32170475e-07, -6.70434943e-08, -2.79459478e-09],\n",
      "         ...,\n",
      "         [-1.71709729e-07, -3.12130446e-08, -2.50488398e-07],\n",
      "         [ 0.00000000e+00,  0.00000000e+00,  0.00000000e+00],\n",
      "         [ 0.00000000e+00,  0.00000000e+00,  0.00000000e+00]],\n",
      "\n",
      "        [[ 0.00000000e+00,  0.00000000e+00,  0.00000000e+00],\n",
      "         [ 0.00000000e+00,  0.00000000e+00,  0.00000000e+00],\n",
      "         [ 0.00000000e+00,  0.00000000e+00,  0.00000000e+00],\n",
      "         ...,\n",
      "         [ 0.00000000e+00,  0.00000000e+00,  0.00000000e+00],\n",
      "         [ 0.00000000e+00,  0.00000000e+00,  0.00000000e+00],\n",
      "         [ 0.00000000e+00,  0.00000000e+00,  0.00000000e+00]],\n",
      "\n",
      "        [[ 0.00000000e+00,  0.00000000e+00,  0.00000000e+00],\n",
      "         [ 0.00000000e+00,  0.00000000e+00,  0.00000000e+00],\n",
      "         [ 0.00000000e+00,  0.00000000e+00,  0.00000000e+00],\n",
      "         ...,\n",
      "         [ 0.00000000e+00,  0.00000000e+00,  0.00000000e+00],\n",
      "         [ 0.00000000e+00,  0.00000000e+00,  0.00000000e+00],\n",
      "         [ 0.00000000e+00,  0.00000000e+00,  0.00000000e+00]]],\n",
      "\n",
      "\n",
      "       [[[-1.68244867e-07,  3.42880924e-08,  2.08138303e-07],\n",
      "         [-1.64535777e-07,  8.19855757e-07,  2.68622131e-07],\n",
      "         [ 5.33207221e-08, -8.58866613e-08,  1.38041969e-08],\n",
      "         ...,\n",
      "         [ 3.98656255e-08,  1.52476190e-07,  1.86531892e-07],\n",
      "         [ 0.00000000e+00,  0.00000000e+00,  0.00000000e+00],\n",
      "         [ 0.00000000e+00,  0.00000000e+00,  0.00000000e+00]],\n",
      "\n",
      "        [[ 8.05403886e-07, -3.27190861e-07,  3.27223717e-07],\n",
      "         [-2.10928988e-07, -3.80986620e-08, -1.99947266e-07],\n",
      "         [-9.89510795e-07,  7.37994696e-08,  2.42718343e-08],\n",
      "         ...,\n",
      "         [-7.01330265e-08, -1.11053680e-07, -2.61377675e-08],\n",
      "         [ 0.00000000e+00,  0.00000000e+00,  0.00000000e+00],\n",
      "         [ 0.00000000e+00,  0.00000000e+00,  0.00000000e+00]],\n",
      "\n",
      "        [[-5.02500200e-07, -2.34516165e-06, -1.14470413e-06],\n",
      "         [-1.32488685e-06, -4.10932472e-07,  7.21962181e-07],\n",
      "         [-3.43825661e-07, -3.86717193e-06, -4.64809136e-06],\n",
      "         ...,\n",
      "         [ 4.91288517e-07, -5.46822783e-08,  9.05096215e-07],\n",
      "         [ 0.00000000e+00,  0.00000000e+00,  0.00000000e+00],\n",
      "         [ 0.00000000e+00,  0.00000000e+00,  0.00000000e+00]],\n",
      "\n",
      "        ...,\n",
      "\n",
      "        [[ 2.80600947e-08,  1.30411832e-08,  8.78047075e-08],\n",
      "         [-3.05990625e-07,  1.55267074e-07,  5.35439959e-08],\n",
      "         [ 2.99086423e-07, -1.24801943e-07, -3.83775728e-07],\n",
      "         ...,\n",
      "         [ 3.11371480e-08, -2.36684627e-08,  6.90383573e-08],\n",
      "         [ 0.00000000e+00,  0.00000000e+00,  0.00000000e+00],\n",
      "         [ 0.00000000e+00,  0.00000000e+00,  0.00000000e+00]],\n",
      "\n",
      "        [[ 0.00000000e+00,  0.00000000e+00,  0.00000000e+00],\n",
      "         [ 0.00000000e+00,  0.00000000e+00,  0.00000000e+00],\n",
      "         [ 0.00000000e+00,  0.00000000e+00,  0.00000000e+00],\n",
      "         ...,\n",
      "         [ 0.00000000e+00,  0.00000000e+00,  0.00000000e+00],\n",
      "         [ 0.00000000e+00,  0.00000000e+00,  0.00000000e+00],\n",
      "         [ 0.00000000e+00,  0.00000000e+00,  0.00000000e+00]],\n",
      "\n",
      "        [[ 0.00000000e+00,  0.00000000e+00,  0.00000000e+00],\n",
      "         [ 0.00000000e+00,  0.00000000e+00,  0.00000000e+00],\n",
      "         [ 0.00000000e+00,  0.00000000e+00,  0.00000000e+00],\n",
      "         ...,\n",
      "         [ 0.00000000e+00,  0.00000000e+00,  0.00000000e+00],\n",
      "         [ 0.00000000e+00,  0.00000000e+00,  0.00000000e+00],\n",
      "         [ 0.00000000e+00,  0.00000000e+00,  0.00000000e+00]]],\n",
      "\n",
      "\n",
      "       [[[-2.89726767e-08,  1.25485855e-07,  1.07211861e-07],\n",
      "         [-2.04750705e-07,  7.17554016e-08, -5.04917885e-08],\n",
      "         [ 2.37176394e-07,  2.38721213e-07,  1.64549760e-07],\n",
      "         ...,\n",
      "         [ 3.73274816e-07, -2.64931430e-07, -4.06275404e-07],\n",
      "         [ 0.00000000e+00,  0.00000000e+00,  0.00000000e+00],\n",
      "         [ 0.00000000e+00,  0.00000000e+00,  0.00000000e+00]],\n",
      "\n",
      "        [[-1.84682619e-07, -1.68969585e-08,  1.14012728e-07],\n",
      "         [-2.02908652e-07,  3.00472465e-07,  1.60786797e-08],\n",
      "         [ 1.83800552e-07, -2.94500978e-07,  3.04540482e-09],\n",
      "         ...,\n",
      "         [-2.57870101e-06,  6.82133077e-07, -1.95234861e-06],\n",
      "         [ 0.00000000e+00,  0.00000000e+00,  0.00000000e+00],\n",
      "         [ 0.00000000e+00,  0.00000000e+00,  0.00000000e+00]],\n",
      "\n",
      "        [[-2.62155794e-07, -8.72105090e-07, -3.55173633e-08],\n",
      "         [-6.51964216e-09, -7.72450392e-07, -6.15528052e-07],\n",
      "         [ 1.46264301e-06, -1.06897664e-06, -2.92189526e-07],\n",
      "         ...,\n",
      "         [-1.09939958e-06,  2.13509665e-07, -3.47310674e-07],\n",
      "         [ 0.00000000e+00,  0.00000000e+00,  0.00000000e+00],\n",
      "         [ 0.00000000e+00,  0.00000000e+00,  0.00000000e+00]],\n",
      "\n",
      "        ...,\n",
      "\n",
      "        [[-4.74057416e-08,  1.03380238e-07, -9.32162294e-08],\n",
      "         [ 5.80536934e-08,  3.66661624e-07, -3.71636986e-07],\n",
      "         [-9.20785723e-08, -1.28915445e-07, -4.26998810e-07],\n",
      "         ...,\n",
      "         [-6.17538163e-08,  1.62097834e-07, -6.13758111e-09],\n",
      "         [ 0.00000000e+00,  0.00000000e+00,  0.00000000e+00],\n",
      "         [ 0.00000000e+00,  0.00000000e+00,  0.00000000e+00]],\n",
      "\n",
      "        [[ 0.00000000e+00,  0.00000000e+00,  0.00000000e+00],\n",
      "         [ 0.00000000e+00,  0.00000000e+00,  0.00000000e+00],\n",
      "         [ 0.00000000e+00,  0.00000000e+00,  0.00000000e+00],\n",
      "         ...,\n",
      "         [ 0.00000000e+00,  0.00000000e+00,  0.00000000e+00],\n",
      "         [ 0.00000000e+00,  0.00000000e+00,  0.00000000e+00],\n",
      "         [ 0.00000000e+00,  0.00000000e+00,  0.00000000e+00]],\n",
      "\n",
      "        [[ 0.00000000e+00,  0.00000000e+00,  0.00000000e+00],\n",
      "         [ 0.00000000e+00,  0.00000000e+00,  0.00000000e+00],\n",
      "         [ 0.00000000e+00,  0.00000000e+00,  0.00000000e+00],\n",
      "         ...,\n",
      "         [ 0.00000000e+00,  0.00000000e+00,  0.00000000e+00],\n",
      "         [ 0.00000000e+00,  0.00000000e+00,  0.00000000e+00],\n",
      "         [ 0.00000000e+00,  0.00000000e+00,  0.00000000e+00]]]])]\n"
     ]
    }
   ],
   "source": [
    "shap_values = e.shap_values(x_test[1:5][1:5])\n",
    "print(shap_values)"
   ]
  }
 ],
 "metadata": {
  "interpreter": {
   "hash": "92853b521c4364ee2bc314bffcebc643300d4fcf0484a0c07ccb04aa64d90057"
  },
  "kernelspec": {
   "display_name": "Python 3.9.7 ('shap')",
   "language": "python",
   "name": "python3"
  },
  "language_info": {
   "codemirror_mode": {
    "name": "ipython",
    "version": 3
   },
   "file_extension": ".py",
   "mimetype": "text/x-python",
   "name": "python",
   "nbconvert_exporter": "python",
   "pygments_lexer": "ipython3",
   "version": "3.9.10"
  },
  "orig_nbformat": 4
 },
 "nbformat": 4,
 "nbformat_minor": 2
}
