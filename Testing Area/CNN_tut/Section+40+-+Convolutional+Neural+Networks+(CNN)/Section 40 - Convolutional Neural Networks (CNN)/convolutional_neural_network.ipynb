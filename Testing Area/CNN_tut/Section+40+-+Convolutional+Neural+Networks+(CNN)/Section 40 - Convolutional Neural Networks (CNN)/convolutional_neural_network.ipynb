{
  "cells": [
    {
      "cell_type": "markdown",
      "metadata": {
        "colab_type": "text",
        "id": "3DR-eO17geWu"
      },
      "source": [
        "# Convolutional Neural Network"
      ]
    },
    {
      "cell_type": "markdown",
      "metadata": {
        "colab_type": "text",
        "id": "EMefrVPCg-60"
      },
      "source": [
        "### Importing the libraries"
      ]
    },
    {
      "cell_type": "code",
      "execution_count": 7,
      "metadata": {
        "colab": {},
        "colab_type": "code",
        "id": "sCV30xyVhFbE"
      },
      "outputs": [],
      "source": [
        "import tensorflow as tf\n",
        "from keras.preprocessing.image import ImageDataGenerator"
      ]
    },
    {
      "cell_type": "code",
      "execution_count": 8,
      "metadata": {
        "colab": {},
        "colab_type": "code",
        "id": "FIleuCAjoFD8"
      },
      "outputs": [
        {
          "data": {
            "text/plain": [
              "'2.3.0'"
            ]
          },
          "execution_count": 8,
          "metadata": {},
          "output_type": "execute_result"
        }
      ],
      "source": [
        "tf.__version__"
      ]
    },
    {
      "cell_type": "markdown",
      "metadata": {
        "colab_type": "text",
        "id": "oxQxCBWyoGPE"
      },
      "source": [
        "## Part 1 - Data Preprocessing"
      ]
    },
    {
      "cell_type": "markdown",
      "metadata": {
        "colab_type": "text",
        "id": "MvE-heJNo3GG"
      },
      "source": [
        "### Preprocessing the Training set"
      ]
    },
    {
      "cell_type": "code",
      "execution_count": 9,
      "metadata": {
        "colab": {},
        "colab_type": "code",
        "id": "0koUcJMJpEBD"
      },
      "outputs": [
        {
          "name": "stdout",
          "output_type": "stream",
          "text": [
            "Found 7962 images belonging to 2 classes.\n"
          ]
        }
      ],
      "source": [
        "train_datagen = ImageDataGenerator(rescale = 1./255,\n",
        "                                   shear_range = 0.2,\n",
        "                                   zoom_range = 0.2,\n",
        "                                   horizontal_flip = True)\n",
        "training_set = train_datagen.flow_from_directory('dataset/training_set',\n",
        "                                                 target_size = (64, 64),\n",
        "                                                 batch_size = 32,\n",
        "                                                 class_mode = 'binary')"
      ]
    },
    {
      "cell_type": "markdown",
      "metadata": {
        "colab_type": "text",
        "id": "mrCMmGw9pHys"
      },
      "source": [
        "### Preprocessing the Test set"
      ]
    },
    {
      "cell_type": "code",
      "execution_count": 10,
      "metadata": {
        "colab": {},
        "colab_type": "code",
        "id": "SH4WzfOhpKc3"
      },
      "outputs": [
        {
          "name": "stdout",
          "output_type": "stream",
          "text": [
            "Found 7962 images belonging to 2 classes.\n"
          ]
        }
      ],
      "source": [
        "test_datagen = ImageDataGenerator(rescale = 1./255)\n",
        "test_set = test_datagen.flow_from_directory('dataset/training_set',\n",
        "                                            target_size = (64, 64),\n",
        "                                            batch_size = 32,\n",
        "                                            class_mode = 'binary')"
      ]
    },
    {
      "cell_type": "markdown",
      "metadata": {
        "colab_type": "text",
        "id": "af8O4l90gk7B"
      },
      "source": [
        "## Part 2 - Building the CNN"
      ]
    },
    {
      "cell_type": "markdown",
      "metadata": {
        "colab_type": "text",
        "id": "ces1gXY2lmoX"
      },
      "source": [
        "### Initialising the CNN"
      ]
    },
    {
      "cell_type": "code",
      "execution_count": 11,
      "metadata": {
        "colab": {},
        "colab_type": "code",
        "id": "SAUt4UMPlhLS"
      },
      "outputs": [],
      "source": [
        "cnn = tf.keras.models.Sequential()"
      ]
    },
    {
      "cell_type": "markdown",
      "metadata": {
        "colab_type": "text",
        "id": "u5YJj_XMl5LF"
      },
      "source": [
        "### Step 1 - Convolution"
      ]
    },
    {
      "cell_type": "code",
      "execution_count": 12,
      "metadata": {
        "colab": {},
        "colab_type": "code",
        "id": "XPzPrMckl-hV"
      },
      "outputs": [],
      "source": [
        "cnn.add(tf.keras.layers.Conv2D(filters=32, kernel_size=3, activation='relu', input_shape=[64, 64, 3]))"
      ]
    },
    {
      "cell_type": "markdown",
      "metadata": {
        "colab_type": "text",
        "id": "tf87FpvxmNOJ"
      },
      "source": [
        "### Step 2 - Pooling"
      ]
    },
    {
      "cell_type": "code",
      "execution_count": 13,
      "metadata": {
        "colab": {},
        "colab_type": "code",
        "id": "ncpqPl69mOac"
      },
      "outputs": [],
      "source": [
        "cnn.add(tf.keras.layers.MaxPool2D(pool_size=2, strides=2))"
      ]
    },
    {
      "cell_type": "markdown",
      "metadata": {
        "colab_type": "text",
        "id": "xaTOgD8rm4mU"
      },
      "source": [
        "### Adding a second convolutional layer"
      ]
    },
    {
      "cell_type": "code",
      "execution_count": 14,
      "metadata": {
        "colab": {},
        "colab_type": "code",
        "id": "i_-FZjn_m8gk"
      },
      "outputs": [],
      "source": [
        "cnn.add(tf.keras.layers.Conv2D(filters=32, kernel_size=3, activation='relu'))\n",
        "cnn.add(tf.keras.layers.MaxPool2D(pool_size=2, strides=2))"
      ]
    },
    {
      "cell_type": "markdown",
      "metadata": {
        "colab_type": "text",
        "id": "tmiEuvTunKfk"
      },
      "source": [
        "### Step 3 - Flattening"
      ]
    },
    {
      "cell_type": "code",
      "execution_count": 15,
      "metadata": {
        "colab": {},
        "colab_type": "code",
        "id": "6AZeOGCvnNZn"
      },
      "outputs": [],
      "source": [
        "cnn.add(tf.keras.layers.Flatten())"
      ]
    },
    {
      "cell_type": "markdown",
      "metadata": {
        "colab_type": "text",
        "id": "dAoSECOm203v"
      },
      "source": [
        "### Step 4 - Full Connection"
      ]
    },
    {
      "cell_type": "code",
      "execution_count": 16,
      "metadata": {
        "colab": {},
        "colab_type": "code",
        "id": "8GtmUlLd26Nq"
      },
      "outputs": [],
      "source": [
        "cnn.add(tf.keras.layers.Dense(units=128, activation='relu'))"
      ]
    },
    {
      "cell_type": "markdown",
      "metadata": {
        "colab_type": "text",
        "id": "yTldFvbX28Na"
      },
      "source": [
        "### Step 5 - Output Layer"
      ]
    },
    {
      "cell_type": "code",
      "execution_count": 17,
      "metadata": {
        "colab": {},
        "colab_type": "code",
        "id": "1p_Zj1Mc3Ko_"
      },
      "outputs": [],
      "source": [
        "cnn.add(tf.keras.layers.Dense(units=1, activation='sigmoid'))"
      ]
    },
    {
      "cell_type": "markdown",
      "metadata": {
        "colab_type": "text",
        "id": "D6XkI90snSDl"
      },
      "source": [
        "## Part 3 - Training the CNN"
      ]
    },
    {
      "cell_type": "markdown",
      "metadata": {
        "colab_type": "text",
        "id": "vfrFQACEnc6i"
      },
      "source": [
        "### Compiling the CNN"
      ]
    },
    {
      "cell_type": "code",
      "execution_count": 18,
      "metadata": {
        "colab": {},
        "colab_type": "code",
        "id": "NALksrNQpUlJ"
      },
      "outputs": [],
      "source": [
        "cnn.compile(optimizer = 'adam', loss = 'binary_crossentropy', metrics = ['accuracy'])"
      ]
    },
    {
      "cell_type": "markdown",
      "metadata": {
        "colab_type": "text",
        "id": "ehS-v3MIpX2h"
      },
      "source": [
        "### Training the CNN on the Training set and evaluating it on the Test set"
      ]
    },
    {
      "cell_type": "code",
      "execution_count": 19,
      "metadata": {
        "colab": {},
        "colab_type": "code",
        "id": "XUj1W4PJptta"
      },
      "outputs": [
        {
          "name": "stdout",
          "output_type": "stream",
          "text": [
            "Epoch 1/25\n",
            "249/249 [==============================] - 56s 223ms/step - loss: 0.6760 - accuracy: 0.5828 - val_loss: 0.6339 - val_accuracy: 0.6395\n",
            "Epoch 2/25\n",
            "249/249 [==============================] - 59s 237ms/step - loss: 0.6161 - accuracy: 0.6660 - val_loss: 0.5717 - val_accuracy: 0.7097\n",
            "Epoch 3/25\n",
            "249/249 [==============================] - 60s 241ms/step - loss: 0.5712 - accuracy: 0.6989 - val_loss: 0.5140 - val_accuracy: 0.7442\n",
            "Epoch 4/25\n",
            "249/249 [==============================] - 63s 252ms/step - loss: 0.5338 - accuracy: 0.7305 - val_loss: 0.4882 - val_accuracy: 0.7646\n",
            "Epoch 5/25\n",
            "249/249 [==============================] - 61s 243ms/step - loss: 0.5145 - accuracy: 0.7429 - val_loss: 0.4597 - val_accuracy: 0.7774\n",
            "Epoch 6/25\n",
            "249/249 [==============================] - 62s 247ms/step - loss: 0.4916 - accuracy: 0.7631 - val_loss: 0.5122 - val_accuracy: 0.7405\n",
            "Epoch 7/25\n",
            "249/249 [==============================] - 66s 265ms/step - loss: 0.4643 - accuracy: 0.7754 - val_loss: 0.4151 - val_accuracy: 0.8093\n",
            "Epoch 8/25\n",
            "249/249 [==============================] - 60s 241ms/step - loss: 0.4551 - accuracy: 0.7815 - val_loss: 0.3985 - val_accuracy: 0.8244\n",
            "Epoch 9/25\n",
            "249/249 [==============================] - 55s 220ms/step - loss: 0.4347 - accuracy: 0.7982 - val_loss: 0.3850 - val_accuracy: 0.8201\n",
            "Epoch 10/25\n",
            "249/249 [==============================] - 67s 268ms/step - loss: 0.4227 - accuracy: 0.8036 - val_loss: 0.4003 - val_accuracy: 0.8135\n",
            "Epoch 11/25\n",
            "249/249 [==============================] - 55s 221ms/step - loss: 0.4125 - accuracy: 0.8164 - val_loss: 0.3801 - val_accuracy: 0.8239\n",
            "Epoch 12/25\n",
            "249/249 [==============================] - 54s 218ms/step - loss: 0.3895 - accuracy: 0.8210 - val_loss: 0.3303 - val_accuracy: 0.8596\n",
            "Epoch 13/25\n",
            "249/249 [==============================] - 72s 291ms/step - loss: 0.3736 - accuracy: 0.8312 - val_loss: 0.3146 - val_accuracy: 0.8713\n",
            "Epoch 14/25\n",
            "249/249 [==============================] - 61s 246ms/step - loss: 0.3668 - accuracy: 0.8345 - val_loss: 0.3223 - val_accuracy: 0.8616\n",
            "Epoch 15/25\n",
            "249/249 [==============================] - 58s 231ms/step - loss: 0.3503 - accuracy: 0.8441 - val_loss: 0.2760 - val_accuracy: 0.8892\n",
            "Epoch 16/25\n",
            "249/249 [==============================] - 53s 212ms/step - loss: 0.3242 - accuracy: 0.8572 - val_loss: 0.3057 - val_accuracy: 0.8693\n",
            "Epoch 17/25\n",
            "249/249 [==============================] - 55s 222ms/step - loss: 0.3139 - accuracy: 0.8634 - val_loss: 0.2694 - val_accuracy: 0.8890\n",
            "Epoch 18/25\n",
            "249/249 [==============================] - 56s 223ms/step - loss: 0.2927 - accuracy: 0.8738 - val_loss: 0.2245 - val_accuracy: 0.9091\n",
            "Epoch 19/25\n",
            "249/249 [==============================] - 56s 227ms/step - loss: 0.2837 - accuracy: 0.8769 - val_loss: 0.2123 - val_accuracy: 0.9186\n",
            "Epoch 20/25\n",
            "249/249 [==============================] - 58s 232ms/step - loss: 0.2607 - accuracy: 0.8920 - val_loss: 0.2479 - val_accuracy: 0.8980\n",
            "Epoch 21/25\n",
            "249/249 [==============================] - 55s 220ms/step - loss: 0.2548 - accuracy: 0.8920 - val_loss: 0.2006 - val_accuracy: 0.9195\n",
            "Epoch 22/25\n",
            "249/249 [==============================] - 55s 219ms/step - loss: 0.2377 - accuracy: 0.9005 - val_loss: 0.1573 - val_accuracy: 0.9452\n",
            "Epoch 23/25\n",
            "249/249 [==============================] - 52s 210ms/step - loss: 0.2217 - accuracy: 0.9081 - val_loss: 0.1747 - val_accuracy: 0.9318\n",
            "Epoch 24/25\n",
            "249/249 [==============================] - 50s 200ms/step - loss: 0.2129 - accuracy: 0.9137 - val_loss: 0.1812 - val_accuracy: 0.9254\n",
            "Epoch 25/25\n",
            "249/249 [==============================] - 48s 194ms/step - loss: 0.2055 - accuracy: 0.9123 - val_loss: 0.1505 - val_accuracy: 0.9437\n"
          ]
        },
        {
          "data": {
            "text/plain": [
              "<tensorflow.python.keras.callbacks.History at 0x1c4cf59b6d0>"
            ]
          },
          "execution_count": 19,
          "metadata": {},
          "output_type": "execute_result"
        }
      ],
      "source": [
        "cnn.fit(x = training_set, validation_data = test_set, epochs = 25)"
      ]
    },
    {
      "cell_type": "markdown",
      "metadata": {
        "colab_type": "text",
        "id": "U3PZasO0006Z"
      },
      "source": [
        "## Part 4 - Making a single prediction"
      ]
    },
    {
      "cell_type": "code",
      "execution_count": 20,
      "metadata": {
        "colab": {},
        "colab_type": "code",
        "id": "gsSiWEJY1BPB"
      },
      "outputs": [],
      "source": [
        "import numpy as np\n",
        "from keras.preprocessing import image\n",
        "test_image = image.load_img('dataset/single_prediction/cat_or_dog_1.jpg', target_size = (64, 64))\n",
        "test_image = image.img_to_array(test_image)\n",
        "test_image = np.expand_dims(test_image, axis = 0)\n",
        "result = cnn.predict(test_image)\n",
        "training_set.class_indices\n",
        "if result[0][0] == 1:\n",
        "  prediction = 'dog'\n",
        "else:\n",
        "  prediction = 'cat'"
      ]
    },
    {
      "cell_type": "code",
      "execution_count": 21,
      "metadata": {
        "colab": {},
        "colab_type": "code",
        "id": "ED9KB3I54c1i"
      },
      "outputs": [
        {
          "name": "stdout",
          "output_type": "stream",
          "text": [
            "dog\n"
          ]
        }
      ],
      "source": [
        "print(prediction)"
      ]
    }
  ],
  "metadata": {
    "colab": {
      "collapsed_sections": [],
      "name": "convolutional_neural_network.ipynb",
      "provenance": [],
      "toc_visible": true
    },
    "kernelspec": {
      "display_name": "Python 3",
      "name": "python3"
    },
    "language_info": {
      "codemirror_mode": {
        "name": "ipython",
        "version": 3
      },
      "file_extension": ".py",
      "mimetype": "text/x-python",
      "name": "python",
      "nbconvert_exporter": "python",
      "pygments_lexer": "ipython3",
      "version": "3.8.12"
    }
  },
  "nbformat": 4,
  "nbformat_minor": 0
}
