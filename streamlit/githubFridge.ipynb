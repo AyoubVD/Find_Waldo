{
 "cells": [
  {
   "cell_type": "code",
   "execution_count": 1,
   "metadata": {},
   "outputs": [
    {
     "name": "stdout",
     "output_type": "stream",
     "text": [
      "This notebook was created using version 1.35.0 of the Azure ML SDK.\n",
      "You are currently using version 1.41.0 of the Azure ML SDK.\n"
     ]
    }
   ],
   "source": [
    "import azureml.core\n",
    "\n",
    "print(\"This notebook was created using version 1.35.0 of the Azure ML SDK.\")\n",
    "print(\"You are currently using version\", azureml.core.VERSION, \"of the Azure ML SDK.\")\n",
    "assert (\n",
    "    azureml.core.VERSION >= \"1.35\"\n",
    "), \"Please upgrade the Azure ML SDK by running '!pip install --upgrade azureml-sdk' then restart the kernel.\""
   ]
  },
  {
   "cell_type": "code",
   "execution_count": 2,
   "metadata": {},
   "outputs": [],
   "source": [
    "from azureml.core.workspace import Workspace\n",
    "\n",
    "ws = Workspace.from_config()"
   ]
  },
  {
   "cell_type": "code",
   "execution_count": 3,
   "metadata": {},
   "outputs": [
    {
     "name": "stdout",
     "output_type": "stream",
     "text": [
      "Found existing compute target.\n",
      "Succeeded\n",
      "AmlCompute wait for completion finished\n",
      "\n",
      "Minimum number of nodes requested have been provisioned\n"
     ]
    }
   ],
   "source": [
    "from azureml.core.compute import AmlCompute, ComputeTarget\n",
    "\n",
    "cluster_name = \"gpu-cluster-nc6\"\n",
    "\n",
    "try:\n",
    "    compute_target = ws.compute_targets[cluster_name]\n",
    "    print(\"Found existing compute target.\")\n",
    "except KeyError:\n",
    "    print(\"Creating a new compute target...\")\n",
    "    compute_config = AmlCompute.provisioning_configuration(\n",
    "        vm_size=\"Standard_NC6\",\n",
    "        idle_seconds_before_scaledown=600,\n",
    "        min_nodes=0,\n",
    "        max_nodes=4,\n",
    "    )\n",
    "    compute_target = ComputeTarget.create(ws, cluster_name, compute_config)\n",
    "# Can poll for a minimum number of nodes and for a specific timeout.\n",
    "# If no min_node_count is provided, it will use the scale settings for the cluster.\n",
    "compute_target.wait_for_completion(\n",
    "    show_output=True, min_node_count=None, timeout_in_minutes=20\n",
    ")"
   ]
  },
  {
   "cell_type": "code",
   "execution_count": 4,
   "metadata": {},
   "outputs": [],
   "source": [
    "from azureml.core import Experiment\n",
    "\n",
    "experiment_name = \"wheres-wally-exp\"\n",
    "experiment = Experiment(ws, name=experiment_name)"
   ]
  },
  {
   "cell_type": "code",
   "execution_count": 5,
   "metadata": {},
   "outputs": [
    {
     "name": "stdout",
     "output_type": "stream",
     "text": [
      "c:\\Users\\ayoub\\OneDrive\\TMM\\Stage fase 3\\Arinti\\FindWaldo\\FindWaldo\\streamlit\n"
     ]
    }
   ],
   "source": [
    "print(os.getcwd())"
   ]
  },
  {
   "cell_type": "code",
   "execution_count": 6,
   "metadata": {},
   "outputs": [
    {
     "data": {
      "text/plain": [
       "' import os\\nimport urllib\\nfrom zipfile import ZipFile\\n\\n# download data\\ndownload_url = \"https://cvbp-secondary.z19.web.core.windows.net/datasets/image_classification/fridgeObjects.zip\"\\ndata_file = \"./fridgeObjects.zip\"\\nurllib.request.urlretrieve(download_url, filename=data_file)\\n\\n# extract files\\nwith ZipFile(data_file, \"r\") as zip:\\n    print(\"extracting files...\")\\n    zip.extractall()\\n    print(\"done\")\\n# delete zip file\\nos.remove(data_file) '"
      ]
     },
     "execution_count": 6,
     "metadata": {},
     "output_type": "execute_result"
    }
   ],
   "source": [
    "''' import os\n",
    "import urllib\n",
    "from zipfile import ZipFile\n",
    "\n",
    "# download data\n",
    "download_url = \"https://cvbp-secondary.z19.web.core.windows.net/datasets/image_classification/fridgeObjects.zip\"\n",
    "data_file = \"./fridgeObjects.zip\"\n",
    "urllib.request.urlretrieve(download_url, filename=data_file)\n",
    "\n",
    "# extract files\n",
    "with ZipFile(data_file, \"r\") as zip:\n",
    "    print(\"extracting files...\")\n",
    "    zip.extractall()\n",
    "    print(\"done\")\n",
    "# delete zip file\n",
    "os.remove(data_file) '''"
   ]
  },
  {
   "cell_type": "code",
   "execution_count": 7,
   "metadata": {},
   "outputs": [
    {
     "name": "stdout",
     "output_type": "stream",
     "text": [
      "c:\\Users\\ayoub\\OneDrive\\TMM\\Stage fase 3\\Arinti\\FindWaldo\\FindWaldo\\streamlit\n"
     ]
    },
    {
     "data": {
      "image/jpeg": "[encoded data removed]",
      "text/plain": [
       "<IPython.core.display.Image object>"
      ]
     },
     "execution_count": 7,
     "metadata": {},
     "output_type": "execute_result"
    }
   ],
   "source": [
    "from IPython.display import Image\n",
    "print(os.getcwd())\n",
    "sample_image = \"./images/wally/w1.jpg\"\n",
    "Image(filename=sample_image)"
   ]
  },
  {
   "cell_type": "code",
   "execution_count": 8,
   "metadata": {},
   "outputs": [
    {
     "name": "stdout",
     "output_type": "stream",
     "text": [
      "Parsing ./images/nwally\n",
      "Parsing ./images/Wally\n"
     ]
    }
   ],
   "source": [
    "import json\n",
    "import os\n",
    "\n",
    "src = \"./images/\"\n",
    "train_validation_ratio = 5\n",
    "\n",
    "# Retrieving default datastore that got automatically created when we setup a workspace\n",
    "workspaceblobstore = ws.get_default_datastore().name\n",
    "\n",
    "# Path to the training and validation files\n",
    "train_annotations_file = os.path.join(src, \"train_annotations.jsonl\")\n",
    "validation_annotations_file = os.path.join(src, \"validation_annotations.jsonl\")\n",
    "\n",
    "# sample json line dictionary\n",
    "json_line_sample = {\n",
    "    \"image_url\": \"AmlDatastore://\"\n",
    "    + workspaceblobstore\n",
    "    + \"/\"\n",
    "    + os.path.basename(os.path.dirname(src)),\n",
    "    \"label\": \"\",\n",
    "}\n",
    "\n",
    "index = 0\n",
    "# Scan each sub directary and generate jsonl line\n",
    "with open(train_annotations_file, \"w\") as train_f:\n",
    "    with open(validation_annotations_file, \"w\") as validation_f:\n",
    "        for className in os.listdir(src):\n",
    "            subDir = src + className\n",
    "            if not os.path.isdir(subDir):\n",
    "                continue\n",
    "            # Scan each sub directary\n",
    "            print(\"Parsing \" + subDir)\n",
    "            for image in os.listdir(subDir):\n",
    "                json_line = dict(json_line_sample)\n",
    "                json_line[\"image_url\"] += f\"/{className}/{image}\"\n",
    "                json_line[\"label\"] = className\n",
    "\n",
    "                if index % train_validation_ratio == 0:\n",
    "                    # validation annotation\n",
    "                    validation_f.write(json.dumps(json_line) + \"\\n\")\n",
    "                else:\n",
    "                    # train annotation\n",
    "                    train_f.write(json.dumps(json_line) + \"\\n\")\n",
    "                index += 1"
   ]
  },
  {
   "cell_type": "code",
   "execution_count": 9,
   "metadata": {},
   "outputs": [
    {
     "name": "stderr",
     "output_type": "stream",
     "text": [
      "\"Datastore.upload\" is deprecated after version 1.0.69. Please use \"Dataset.File.upload_directory\" to upload your files             from a local directory and create FileDataset in single method call. See Dataset API change notice at https://aka.ms/dataset-deprecation.\n"
     ]
    },
    {
     "name": "stdout",
     "output_type": "stream",
     "text": [
      "Uploading an estimated of 234 files\n",
      "Target already exists. Skipping upload for images\\changefilenames.py\n",
      "Target already exists. Skipping upload for images\\create.py\n",
      "Target already exists. Skipping upload for images\\trainwanno.jasonl\n",
      "Target already exists. Skipping upload for images\\trainwanno.txt\n",
      "Target already exists. Skipping upload for images\\train_annotations.jsonl\n",
      "Target already exists. Skipping upload for images\\validation_annotations.jsonl\n",
      "Target already exists. Skipping upload for images\\nwally\\n1.jpg\n",
      "Target already exists. Skipping upload for images\\nwally\\n10.jpg\n",
      "Target already exists. Skipping upload for images\\nwally\\n100.jpg\n",
      "Target already exists. Skipping upload for images\\nwally\\n101.jpg\n",
      "Target already exists. Skipping upload for images\\nwally\\n102.jpg\n",
      "Target already exists. Skipping upload for images\\nwally\\n103.jpg\n",
      "Target already exists. Skipping upload for images\\nwally\\n104.jpg\n",
      "Target already exists. Skipping upload for images\\nwally\\n105.jpg\n",
      "Target already exists. Skipping upload for images\\nwally\\n106.jpg\n",
      "Target already exists. Skipping upload for images\\nwally\\n107.jpg\n",
      "Target already exists. Skipping upload for images\\nwally\\n108.jpg\n",
      "Target already exists. Skipping upload for images\\nwally\\n109.jpg\n",
      "Target already exists. Skipping upload for images\\nwally\\n11.jpg\n",
      "Target already exists. Skipping upload for images\\nwally\\n110.jpg\n",
      "Target already exists. Skipping upload for images\\nwally\\n111.jpg\n",
      "Target already exists. Skipping upload for images\\nwally\\n112.jpg\n",
      "Target already exists. Skipping upload for images\\nwally\\n113.jpg\n",
      "Target already exists. Skipping upload for images\\nwally\\n114.jpg\n",
      "Target already exists. Skipping upload for images\\nwally\\n115.jpg\n",
      "Target already exists. Skipping upload for images\\nwally\\n116.jpg\n",
      "Target already exists. Skipping upload for images\\nwally\\n117.jpg\n",
      "Target already exists. Skipping upload for images\\nwally\\n118.jpg\n",
      "Target already exists. Skipping upload for images\\nwally\\n119.jpg\n",
      "Target already exists. Skipping upload for images\\nwally\\n12.jpg\n",
      "Target already exists. Skipping upload for images\\nwally\\n120.jpg\n",
      "Target already exists. Skipping upload for images\\nwally\\n121.jpg\n",
      "Target already exists. Skipping upload for images\\nwally\\n122.jpg\n",
      "Target already exists. Skipping upload for images\\nwally\\n123.jpg\n",
      "Target already exists. Skipping upload for images\\nwally\\n124.jpg\n",
      "Target already exists. Skipping upload for images\\nwally\\n125.jpg\n",
      "Target already exists. Skipping upload for images\\nwally\\n126.jpg\n",
      "Target already exists. Skipping upload for images\\nwally\\n13.jpg\n",
      "Target already exists. Skipping upload for images\\nwally\\n14.jpg\n",
      "Target already exists. Skipping upload for images\\nwally\\n15.jpg\n",
      "Target already exists. Skipping upload for images\\nwally\\n16.jpg\n",
      "Target already exists. Skipping upload for images\\nwally\\n17.jpg\n",
      "Target already exists. Skipping upload for images\\nwally\\n18.jpg\n",
      "Target already exists. Skipping upload for images\\nwally\\n19.jpg\n",
      "Target already exists. Skipping upload for images\\nwally\\n2.jpg\n",
      "Target already exists. Skipping upload for images\\nwally\\n20.jpg\n",
      "Target already exists. Skipping upload for images\\nwally\\n21.jpg\n",
      "Target already exists. Skipping upload for images\\nwally\\n22.jpg\n",
      "Target already exists. Skipping upload for images\\nwally\\n23.jpg\n",
      "Target already exists. Skipping upload for images\\nwally\\n24.jpg\n",
      "Target already exists. Skipping upload for images\\nwally\\n25.jpg\n",
      "Target already exists. Skipping upload for images\\nwally\\n26.jpg\n",
      "Target already exists. Skipping upload for images\\nwally\\n27.jpg\n",
      "Target already exists. Skipping upload for images\\nwally\\n28.jpg\n",
      "Target already exists. Skipping upload for images\\nwally\\n29.jpg\n",
      "Target already exists. Skipping upload for images\\nwally\\n3.jpg\n",
      "Target already exists. Skipping upload for images\\nwally\\n30.jpg\n",
      "Target already exists. Skipping upload for images\\nwally\\n31.jpg\n",
      "Target already exists. Skipping upload for images\\nwally\\n32.jpg\n",
      "Target already exists. Skipping upload for images\\nwally\\n33.jpg\n",
      "Target already exists. Skipping upload for images\\nwally\\n34.jpg\n",
      "Target already exists. Skipping upload for images\\nwally\\n35.jpg\n",
      "Target already exists. Skipping upload for images\\nwally\\n36.jpg\n",
      "Target already exists. Skipping upload for images\\nwally\\n37.jpg\n",
      "Target already exists. Skipping upload for images\\nwally\\n38.jpg\n",
      "Target already exists. Skipping upload for images\\nwally\\n39.jpg\n",
      "Target already exists. Skipping upload for images\\nwally\\n4.jpg\n",
      "Target already exists. Skipping upload for images\\nwally\\n40.jpg\n",
      "Target already exists. Skipping upload for images\\nwally\\n41.jpg\n",
      "Target already exists. Skipping upload for images\\nwally\\n42.jpg\n",
      "Target already exists. Skipping upload for images\\nwally\\n43.jpg\n",
      "Target already exists. Skipping upload for images\\nwally\\n44.jpg\n",
      "Target already exists. Skipping upload for images\\nwally\\n45.jpg\n",
      "Target already exists. Skipping upload for images\\nwally\\n46.jpg\n",
      "Target already exists. Skipping upload for images\\nwally\\n47.jpg\n",
      "Target already exists. Skipping upload for images\\nwally\\n48.jpg\n",
      "Target already exists. Skipping upload for images\\nwally\\n49.jpg\n",
      "Target already exists. Skipping upload for images\\nwally\\n5.jpg\n",
      "Target already exists. Skipping upload for images\\nwally\\n50.jpg\n",
      "Target already exists. Skipping upload for images\\nwally\\n51.jpg\n",
      "Target already exists. Skipping upload for images\\nwally\\n52.jpg\n",
      "Target already exists. Skipping upload for images\\nwally\\n53.jpg\n",
      "Target already exists. Skipping upload for images\\nwally\\n54.jpg\n",
      "Target already exists. Skipping upload for images\\nwally\\n55.jpg\n",
      "Target already exists. Skipping upload for images\\nwally\\n56.jpg\n",
      "Target already exists. Skipping upload for images\\nwally\\n57.jpg\n",
      "Target already exists. Skipping upload for images\\nwally\\n58.jpg\n",
      "Target already exists. Skipping upload for images\\nwally\\n59.jpg\n",
      "Target already exists. Skipping upload for images\\nwally\\n6.jpg\n",
      "Target already exists. Skipping upload for images\\nwally\\n60.jpg\n",
      "Target already exists. Skipping upload for images\\nwally\\n61.jpg\n",
      "Target already exists. Skipping upload for images\\nwally\\n62.jpg\n",
      "Target already exists. Skipping upload for images\\nwally\\n63.jpg\n",
      "Target already exists. Skipping upload for images\\nwally\\n64.jpg\n",
      "Target already exists. Skipping upload for images\\nwally\\n65.jpg\n",
      "Target already exists. Skipping upload for images\\nwally\\n66.jpg\n",
      "Target already exists. Skipping upload for images\\nwally\\n67.jpg\n",
      "Target already exists. Skipping upload for images\\nwally\\n68.jpg\n",
      "Target already exists. Skipping upload for images\\nwally\\n69.jpg\n",
      "Target already exists. Skipping upload for images\\nwally\\n7.jpg\n",
      "Target already exists. Skipping upload for images\\nwally\\n70.jpg\n",
      "Target already exists. Skipping upload for images\\nwally\\n71.jpg\n",
      "Target already exists. Skipping upload for images\\nwally\\n72.jpg\n",
      "Target already exists. Skipping upload for images\\nwally\\n73.jpg\n",
      "Target already exists. Skipping upload for images\\nwally\\n74.jpg\n",
      "Target already exists. Skipping upload for images\\nwally\\n75.jpg\n",
      "Target already exists. Skipping upload for images\\nwally\\n76.jpg\n",
      "Target already exists. Skipping upload for images\\nwally\\n77.jpg\n",
      "Target already exists. Skipping upload for images\\nwally\\n78.jpg\n",
      "Target already exists. Skipping upload for images\\nwally\\n79.jpg\n",
      "Target already exists. Skipping upload for images\\nwally\\n8.jpg\n",
      "Target already exists. Skipping upload for images\\nwally\\n80.jpg\n",
      "Target already exists. Skipping upload for images\\nwally\\n81.jpg\n",
      "Target already exists. Skipping upload for images\\nwally\\n82.jpg\n",
      "Target already exists. Skipping upload for images\\nwally\\n83.jpg\n",
      "Target already exists. Skipping upload for images\\nwally\\n84.jpg\n",
      "Target already exists. Skipping upload for images\\nwally\\n85.jpg\n",
      "Target already exists. Skipping upload for images\\nwally\\n86.jpg\n",
      "Target already exists. Skipping upload for images\\nwally\\n87.jpg\n",
      "Target already exists. Skipping upload for images\\nwally\\n88.jpg\n",
      "Target already exists. Skipping upload for images\\nwally\\n89.jpg\n",
      "Target already exists. Skipping upload for images\\nwally\\n9.jpg\n",
      "Target already exists. Skipping upload for images\\nwally\\n90.jpg\n",
      "Target already exists. Skipping upload for images\\nwally\\n91.jpg\n",
      "Target already exists. Skipping upload for images\\nwally\\n92.jpg\n",
      "Target already exists. Skipping upload for images\\nwally\\n93.jpg\n",
      "Target already exists. Skipping upload for images\\nwally\\n94.jpg\n",
      "Target already exists. Skipping upload for images\\nwally\\n95.jpg\n",
      "Target already exists. Skipping upload for images\\nwally\\n96.jpg\n",
      "Target already exists. Skipping upload for images\\nwally\\n97.jpg\n",
      "Target already exists. Skipping upload for images\\nwally\\n98.jpg\n",
      "Target already exists. Skipping upload for images\\nwally\\n99.jpg\n",
      "Target already exists. Skipping upload for images\\Wally\\w1.jpg\n",
      "Target already exists. Skipping upload for images\\Wally\\w10.jpg\n",
      "Target already exists. Skipping upload for images\\Wally\\w100.jpg\n",
      "Target already exists. Skipping upload for images\\Wally\\w101.jpg\n",
      "Target already exists. Skipping upload for images\\Wally\\w102.jpg\n",
      "Target already exists. Skipping upload for images\\Wally\\w11.jpg\n",
      "Target already exists. Skipping upload for images\\Wally\\w12.jpg\n",
      "Target already exists. Skipping upload for images\\Wally\\w13.jpg\n",
      "Target already exists. Skipping upload for images\\Wally\\w14.jpg\n",
      "Target already exists. Skipping upload for images\\Wally\\w15.jpg\n",
      "Target already exists. Skipping upload for images\\Wally\\w16.jpg\n",
      "Target already exists. Skipping upload for images\\Wally\\w17.jpg\n",
      "Target already exists. Skipping upload for images\\Wally\\w18.jpg\n",
      "Target already exists. Skipping upload for images\\Wally\\w19.jpg\n",
      "Target already exists. Skipping upload for images\\Wally\\w2.jpg\n",
      "Target already exists. Skipping upload for images\\Wally\\w20.jpg\n",
      "Target already exists. Skipping upload for images\\Wally\\w21.jpg\n",
      "Target already exists. Skipping upload for images\\Wally\\w22.jpg\n",
      "Target already exists. Skipping upload for images\\Wally\\w23.jpg\n",
      "Target already exists. Skipping upload for images\\Wally\\w24.jpg\n",
      "Target already exists. Skipping upload for images\\Wally\\w25.jpg\n",
      "Target already exists. Skipping upload for images\\Wally\\w26.jpg\n",
      "Target already exists. Skipping upload for images\\Wally\\w27.jpg\n",
      "Target already exists. Skipping upload for images\\Wally\\w28.jpg\n",
      "Target already exists. Skipping upload for images\\Wally\\w29.jpg\n",
      "Target already exists. Skipping upload for images\\Wally\\w3.jpg\n",
      "Target already exists. Skipping upload for images\\Wally\\w30.jpg\n",
      "Target already exists. Skipping upload for images\\Wally\\w31.jpg\n",
      "Target already exists. Skipping upload for images\\Wally\\w32.jpg\n",
      "Target already exists. Skipping upload for images\\Wally\\w33.jpg\n",
      "Target already exists. Skipping upload for images\\Wally\\w34.jpg\n",
      "Target already exists. Skipping upload for images\\Wally\\w35.jpg\n",
      "Target already exists. Skipping upload for images\\Wally\\w36.jpg\n",
      "Target already exists. Skipping upload for images\\Wally\\w37.jpg\n",
      "Target already exists. Skipping upload for images\\Wally\\w38.jpg\n",
      "Target already exists. Skipping upload for images\\Wally\\w39.jpg\n",
      "Target already exists. Skipping upload for images\\Wally\\w4.jpg\n",
      "Target already exists. Skipping upload for images\\Wally\\w40.jpg\n",
      "Target already exists. Skipping upload for images\\Wally\\w41.jpg\n",
      "Target already exists. Skipping upload for images\\Wally\\w42.jpg\n",
      "Target already exists. Skipping upload for images\\Wally\\w43.jpg\n",
      "Target already exists. Skipping upload for images\\Wally\\w44.jpg\n",
      "Target already exists. Skipping upload for images\\Wally\\w45.jpg\n",
      "Target already exists. Skipping upload for images\\Wally\\w46.jpg\n",
      "Target already exists. Skipping upload for images\\Wally\\w47.jpg\n",
      "Target already exists. Skipping upload for images\\Wally\\w48.jpg\n",
      "Target already exists. Skipping upload for images\\Wally\\w49.jpg\n",
      "Target already exists. Skipping upload for images\\Wally\\w5.jpg\n",
      "Target already exists. Skipping upload for images\\Wally\\w50.jpg\n",
      "Target already exists. Skipping upload for images\\Wally\\w51.jpg\n",
      "Target already exists. Skipping upload for images\\Wally\\w52.jpg\n",
      "Target already exists. Skipping upload for images\\Wally\\w53.jpg\n",
      "Target already exists. Skipping upload for images\\Wally\\w54.jpg\n",
      "Target already exists. Skipping upload for images\\Wally\\w55.jpg\n",
      "Target already exists. Skipping upload for images\\Wally\\w56.jpg\n",
      "Target already exists. Skipping upload for images\\Wally\\w57.jpg\n",
      "Target already exists. Skipping upload for images\\Wally\\w58.jpg\n",
      "Target already exists. Skipping upload for images\\Wally\\w59.jpg\n",
      "Target already exists. Skipping upload for images\\Wally\\w6.jpg\n",
      "Target already exists. Skipping upload for images\\Wally\\w60.jpg\n",
      "Target already exists. Skipping upload for images\\Wally\\w61.jpg\n",
      "Target already exists. Skipping upload for images\\Wally\\w62.jpg\n",
      "Target already exists. Skipping upload for images\\Wally\\w63.jpg\n",
      "Target already exists. Skipping upload for images\\Wally\\w64.jpg\n",
      "Target already exists. Skipping upload for images\\Wally\\w65.jpg\n",
      "Target already exists. Skipping upload for images\\Wally\\w66.jpg\n",
      "Target already exists. Skipping upload for images\\Wally\\w67.jpg\n",
      "Target already exists. Skipping upload for images\\Wally\\w68.jpg\n",
      "Target already exists. Skipping upload for images\\Wally\\w69.jpg\n",
      "Target already exists. Skipping upload for images\\Wally\\w7.jpg\n",
      "Target already exists. Skipping upload for images\\Wally\\w70.jpg\n",
      "Target already exists. Skipping upload for images\\Wally\\w71.jpg\n",
      "Target already exists. Skipping upload for images\\Wally\\w72.jpg\n",
      "Target already exists. Skipping upload for images\\Wally\\w73.jpg\n",
      "Target already exists. Skipping upload for images\\Wally\\w74.jpg\n",
      "Target already exists. Skipping upload for images\\Wally\\w75.jpg\n",
      "Target already exists. Skipping upload for images\\Wally\\w76.jpg\n",
      "Target already exists. Skipping upload for images\\Wally\\w77.jpg\n",
      "Target already exists. Skipping upload for images\\Wally\\w78.jpg\n",
      "Target already exists. Skipping upload for images\\Wally\\w79.jpg\n",
      "Target already exists. Skipping upload for images\\Wally\\w8.jpg\n",
      "Target already exists. Skipping upload for images\\Wally\\w80.jpg\n",
      "Target already exists. Skipping upload for images\\Wally\\w81.jpg\n",
      "Target already exists. Skipping upload for images\\Wally\\w82.jpg\n",
      "Target already exists. Skipping upload for images\\Wally\\w83.jpg\n",
      "Target already exists. Skipping upload for images\\Wally\\w84.jpg\n",
      "Target already exists. Skipping upload for images\\Wally\\w85.jpg\n",
      "Target already exists. Skipping upload for images\\Wally\\w86.jpg\n",
      "Target already exists. Skipping upload for images\\Wally\\w87.jpg\n",
      "Target already exists. Skipping upload for images\\Wally\\w88.jpg\n",
      "Target already exists. Skipping upload for images\\Wally\\w89.jpg\n",
      "Target already exists. Skipping upload for images\\Wally\\w9.jpg\n",
      "Target already exists. Skipping upload for images\\Wally\\w90.jpg\n",
      "Target already exists. Skipping upload for images\\Wally\\w91.jpg\n",
      "Target already exists. Skipping upload for images\\Wally\\w92.jpg\n",
      "Target already exists. Skipping upload for images\\Wally\\w93.jpg\n",
      "Target already exists. Skipping upload for images\\Wally\\w94.jpg\n",
      "Target already exists. Skipping upload for images\\Wally\\w95.jpg\n",
      "Target already exists. Skipping upload for images\\Wally\\w96.jpg\n",
      "Target already exists. Skipping upload for images\\Wally\\w97.jpg\n",
      "Target already exists. Skipping upload for images\\Wally\\w98.jpg\n",
      "Target already exists. Skipping upload for images\\Wally\\w99.jpg\n",
      "Uploaded 0 files\n"
     ]
    },
    {
     "data": {
      "text/plain": [
       "$AZUREML_DATAREFERENCE_1797019892c442df80810542e705294f"
      ]
     },
     "execution_count": 9,
     "metadata": {},
     "output_type": "execute_result"
    }
   ],
   "source": [
    "# Retrieving default datastore that got automatically created when we setup a workspace\n",
    "ds = ws.get_default_datastore()\n",
    "ds.upload(src_dir=\"./images\", target_path=\"images\")"
   ]
  },
  {
   "cell_type": "code",
   "execution_count": 10,
   "metadata": {},
   "outputs": [
    {
     "name": "stdout",
     "output_type": "stream",
     "text": [
      "Found the training dataset imagestraining\n",
      "Found the validation dataset imagesvalidation\n",
      "Training dataset name: imagestraining\n",
      "Validation dataset name: imagesvalidation\n"
     ]
    }
   ],
   "source": [
    "from azureml.core import Dataset\n",
    "from azureml.data import DataType\n",
    "\n",
    "# get existing training dataset\n",
    "training_dataset_name = \"imagestraining\"\n",
    "if training_dataset_name in ws.datasets:\n",
    "    training_dataset = ws.datasets.get(training_dataset_name)\n",
    "    print(\"Found the training dataset\", training_dataset_name)\n",
    "else:\n",
    "    # create training dataset\n",
    "    training_dataset = Dataset.Tabular.from_json_lines_files(\n",
    "        path=ds.path(\"images/train_annotations.jsonl\"),\n",
    "        set_column_types={\"image_url\": DataType.to_stream(ds.workspace)},\n",
    "    )\n",
    "    training_dataset = training_dataset.register(\n",
    "        workspace=ws, name=training_dataset_name\n",
    "    )\n",
    "# get existing validation dataset\n",
    "validation_dataset_name = \"imagesvalidation\"\n",
    "if validation_dataset_name in ws.datasets:\n",
    "    validation_dataset = ws.datasets.get(validation_dataset_name)\n",
    "    print(\"Found the validation dataset\", validation_dataset_name)\n",
    "else:\n",
    "    # create validation dataset\n",
    "    validation_dataset = Dataset.Tabular.from_json_lines_files(\n",
    "        path=ds.path(\"images/validation_annotations.jsonl\"),\n",
    "        set_column_types={\"image_url\": DataType.to_stream(ds.workspace)},\n",
    "    )\n",
    "    validation_dataset = validation_dataset.register(\n",
    "        workspace=ws, name=validation_dataset_name\n",
    "    )\n",
    "print(\"Training dataset name: \" + training_dataset.name)\n",
    "print(\"Validation dataset name: \" + validation_dataset.name)"
   ]
  },
  {
   "cell_type": "code",
   "execution_count": 11,
   "metadata": {},
   "outputs": [
    {
     "data": {
      "text/html": [
       "<div>\n",
       "<style scoped>\n",
       "    .dataframe tbody tr th:only-of-type {\n",
       "        vertical-align: middle;\n",
       "    }\n",
       "\n",
       "    .dataframe tbody tr th {\n",
       "        vertical-align: top;\n",
       "    }\n",
       "\n",
       "    .dataframe thead th {\n",
       "        text-align: right;\n",
       "    }\n",
       "</style>\n",
       "<table border=\"1\" class=\"dataframe\">\n",
       "  <thead>\n",
       "    <tr style=\"text-align: right;\">\n",
       "      <th></th>\n",
       "      <th>image_url</th>\n",
       "      <th>label</th>\n",
       "    </tr>\n",
       "  </thead>\n",
       "  <tbody>\n",
       "    <tr>\n",
       "      <th>0</th>\n",
       "      <td>workspaceblobstore/images/Wally/13_6_3.jpg</td>\n",
       "      <td>Wally</td>\n",
       "    </tr>\n",
       "    <tr>\n",
       "      <th>1</th>\n",
       "      <td>workspaceblobstore/images/Wally/14_1_12.jpg</td>\n",
       "      <td>Wally</td>\n",
       "    </tr>\n",
       "    <tr>\n",
       "      <th>2</th>\n",
       "      <td>workspaceblobstore/images/Wally/16_10_4.jpg</td>\n",
       "      <td>Wally</td>\n",
       "    </tr>\n",
       "    <tr>\n",
       "      <th>3</th>\n",
       "      <td>workspaceblobstore/images/Wally/17_13_5.jpg</td>\n",
       "      <td>Wally</td>\n",
       "    </tr>\n",
       "    <tr>\n",
       "      <th>4</th>\n",
       "      <td>workspaceblobstore/images/Wally/18_15_7.jpg</td>\n",
       "      <td>Wally</td>\n",
       "    </tr>\n",
       "    <tr>\n",
       "      <th>...</th>\n",
       "      <td>...</td>\n",
       "      <td>...</td>\n",
       "    </tr>\n",
       "    <tr>\n",
       "      <th>177</th>\n",
       "      <td>workspaceblobstore/images/nwally/Schermafbeeld...</td>\n",
       "      <td>nwally</td>\n",
       "    </tr>\n",
       "    <tr>\n",
       "      <th>178</th>\n",
       "      <td>workspaceblobstore/images/nwally/Schermafbeeld...</td>\n",
       "      <td>nwally</td>\n",
       "    </tr>\n",
       "    <tr>\n",
       "      <th>179</th>\n",
       "      <td>workspaceblobstore/images/nwally/Schermafbeeld...</td>\n",
       "      <td>nwally</td>\n",
       "    </tr>\n",
       "    <tr>\n",
       "      <th>180</th>\n",
       "      <td>workspaceblobstore/images/nwally/Schermafbeeld...</td>\n",
       "      <td>nwally</td>\n",
       "    </tr>\n",
       "    <tr>\n",
       "      <th>181</th>\n",
       "      <td>workspaceblobstore/images/nwally/Schermafbeeld...</td>\n",
       "      <td>nwally</td>\n",
       "    </tr>\n",
       "  </tbody>\n",
       "</table>\n",
       "<p>182 rows × 2 columns</p>\n",
       "</div>"
      ],
      "text/plain": [
       "                                             image_url   label\n",
       "0           workspaceblobstore/images/Wally/13_6_3.jpg   Wally\n",
       "1          workspaceblobstore/images/Wally/14_1_12.jpg   Wally\n",
       "2          workspaceblobstore/images/Wally/16_10_4.jpg   Wally\n",
       "3          workspaceblobstore/images/Wally/17_13_5.jpg   Wally\n",
       "4          workspaceblobstore/images/Wally/18_15_7.jpg   Wally\n",
       "..                                                 ...     ...\n",
       "177  workspaceblobstore/images/nwally/Schermafbeeld...  nwally\n",
       "178  workspaceblobstore/images/nwally/Schermafbeeld...  nwally\n",
       "179  workspaceblobstore/images/nwally/Schermafbeeld...  nwally\n",
       "180  workspaceblobstore/images/nwally/Schermafbeeld...  nwally\n",
       "181  workspaceblobstore/images/nwally/Schermafbeeld...  nwally\n",
       "\n",
       "[182 rows x 2 columns]"
      ]
     },
     "execution_count": 11,
     "metadata": {},
     "output_type": "execute_result"
    }
   ],
   "source": [
    "training_dataset.to_pandas_dataframe()"
   ]
  },
  {
   "cell_type": "code",
   "execution_count": 12,
   "metadata": {},
   "outputs": [],
   "source": [
    "from azureml.automl.core.shared.constants import ImageTask\n",
    "from azureml.train.automl import AutoMLImageConfig\n",
    "from azureml.train.hyperdrive import GridParameterSampling, choice\n",
    "\n",
    "image_config_vit = AutoMLImageConfig(\n",
    "    task=ImageTask.IMAGE_CLASSIFICATION,\n",
    "    compute_target=compute_target,\n",
    "    training_data=training_dataset,\n",
    "    validation_data=validation_dataset,\n",
    "    hyperparameter_sampling=GridParameterSampling({\"model_name\": choice(\"vitb16r224\")}),\n",
    "    iterations=1,\n",
    ")"
   ]
  },
  {
   "cell_type": "code",
   "execution_count": 13,
   "metadata": {},
   "outputs": [
    {
     "name": "stdout",
     "output_type": "stream",
     "text": [
      "Submitting remote run.\n"
     ]
    },
    {
     "data": {
      "text/html": [
       "<table style=\"width:100%\"><tr><th>Experiment</th><th>Id</th><th>Type</th><th>Status</th><th>Details Page</th><th>Docs Page</th></tr><tr><td>automl-wally-image-multiclass</td><td>AutoML_29c38490-c58d-4a70-b5e1-b7996e1d4803</td><td>automl</td><td>NotStarted</td><td><a href=\"https://ml.azure.com/runs/AutoML_29c38490-c58d-4a70-b5e1-b7996e1d4803?wsid=/subscriptions/a8260178-3b6d-4bce-a07e-3aae8c7a62af/resourcegroups/RG-Internship-Ayoub/workspaces/Wally&amp;tid=b3680828-8bce-4405-9349-17844fcea2c9\" target=\"_blank\" rel=\"noopener\">Link to Azure Machine Learning studio</a></td><td><a href=\"https://docs.microsoft.com/en-us/python/api/overview/azure/ml/intro?view=azure-ml-py\" target=\"_blank\" rel=\"noopener\">Link to Documentation</a></td></tr></table>"
      ],
      "text/plain": [
       "<IPython.core.display.HTML object>"
      ]
     },
     "metadata": {},
     "output_type": "display_data"
    }
   ],
   "source": [
    "automl_image_run = experiment.submit(image_config_vit)\n"
   ]
  },
  {
   "cell_type": "code",
   "execution_count": 14,
   "metadata": {},
   "outputs": [
    {
     "data": {
      "text/plain": [
       "{'runId': 'AutoML_29c38490-c58d-4a70-b5e1-b7996e1d4803',\n",
       " 'target': 'gpu-cluster-nc6',\n",
       " 'status': 'Completed',\n",
       " 'startTimeUtc': '2022-05-03T11:55:01.76842Z',\n",
       " 'endTimeUtc': '2022-05-03T12:03:58.134778Z',\n",
       " 'services': {},\n",
       " 'properties': {'num_iterations': '1',\n",
       "  'training_type': 'TrainFull',\n",
       "  'acquisition_function': 'EI',\n",
       "  'primary_metric': 'accuracy',\n",
       "  'train_split': '0',\n",
       "  'acquisition_parameter': '0',\n",
       "  'num_cross_validation': None,\n",
       "  'target': 'gpu-cluster-nc6',\n",
       "  'AMLSettingsJsonString': '{\"path\":null,\"name\":\"automl-wally-image-multiclass\",\"subscription_id\":\"a8260178-3b6d-4bce-a07e-3aae8c7a62af\",\"resource_group\":\"RG-Internship-Ayoub\",\"workspace_name\":\"Wally\",\"region\":\"westeurope\",\"compute_target\":\"gpu-cluster-nc6\",\"spark_service\":null,\"azure_service\":\"remote\",\"many_models\":false,\"pipeline_fetch_max_batch_size\":1,\"enable_batch_run\":true,\"enable_run_restructure\":false,\"start_auxiliary_runs_before_parent_complete\":false,\"enable_code_generation\":false,\"iterations\":1,\"primary_metric\":\"accuracy\",\"task_type\":\"image-classification\",\"positive_label\":null,\"data_script\":null,\"test_size\":0.0,\"test_include_predictions_only\":false,\"validation_size\":0.0,\"n_cross_validations\":null,\"y_min\":null,\"y_max\":null,\"num_classes\":null,\"featurization\":\"off\",\"_ignore_package_version_incompatibilities\":false,\"is_timeseries\":false,\"max_cores_per_iteration\":1,\"max_concurrent_iterations\":1,\"iteration_timeout_minutes\":null,\"mem_in_mb\":null,\"enforce_time_on_windows\":true,\"experiment_timeout_minutes\":8640,\"experiment_exit_score\":null,\"partition_column_names\":null,\"whitelist_models\":null,\"blacklist_algos\":[\"TensorFlowDNN\",\"TensorFlowLinearRegressor\"],\"supported_models\":[],\"private_models\":[],\"auto_blacklist\":true,\"blacklist_samples_reached\":false,\"exclude_nan_labels\":true,\"verbosity\":20,\"_debug_log\":\"azureml_automl.log\",\"show_warnings\":false,\"model_explainability\":true,\"service_url\":null,\"sdk_url\":null,\"sdk_packages\":null,\"enable_onnx_compatible_models\":false,\"enable_split_onnx_featurizer_estimator_models\":false,\"vm_type\":\"STANDARD_NC6\",\"telemetry_verbosity\":20,\"send_telemetry\":true,\"enable_dnn\":true,\"scenario\":\"Vision\",\"environment_label\":null,\"save_mlflow\":false,\"enable_categorical_indicators\":false,\"force_text_dnn\":false,\"enable_feature_sweeping\":true,\"enable_early_stopping\":true,\"early_stopping_n_iters\":10,\"arguments\":null,\"dataset_id\":\"52d9cb0e-ed6c-49bc-8674-e96f4b832a60\",\"hyperdrive_config\":{\"max_total_jobs\":1,\"max_concurrent_jobs\":1,\"generator_config\":{\"name\":\"GRID\",\"parameter_space\":\"{\\\\\"model_name\\\\\": [\\\\\"choice\\\\\", [[\\\\\"vitb16r224\\\\\"]]]}\",\"properties\":null},\"policy_config\":null},\"validation_dataset_id\":\"c171d90d-d1f3-4a44-bf6c-badba1de327d\",\"run_source\":\"AutoMLImageSDK\",\"metrics\":null,\"enable_metric_confidence\":false,\"enable_ensembling\":false,\"enable_stack_ensembling\":false,\"ensemble_iterations\":null,\"enable_tf\":false,\"enable_subsampling\":false,\"subsample_seed\":null,\"enable_nimbusml\":false,\"enable_streaming\":false,\"force_streaming\":false,\"track_child_runs\":true,\"allowed_private_models\":[],\"label_column_name\":\"label\",\"weight_column_name\":null,\"cv_split_column_names\":null,\"enable_local_managed\":false,\"_local_managed_run_id\":null,\"cost_mode\":1,\"lag_length\":0,\"metric_operation\":\"maximize\",\"preprocess\":false}',\n",
       "  'DataPrepJsonString': '{\\\\\"training_data\\\\\": {\\\\\"datasetId\\\\\": \\\\\"52d9cb0e-ed6c-49bc-8674-e96f4b832a60\\\\\"}, \\\\\"validation_data\\\\\": {\\\\\"datasetId\\\\\": \\\\\"c171d90d-d1f3-4a44-bf6c-badba1de327d\\\\\"}, \\\\\"datasets\\\\\": 0}',\n",
       "  'EnableSubsampling': 'False',\n",
       "  'runTemplate': 'AutoML',\n",
       "  'azureml.runsource': 'AutoMLImageSDK',\n",
       "  'display_task_type': 'image-classification',\n",
       "  'dependencies_versions': '{\"azureml-training-tabular\": \"1.41.0\", \"azureml-train-restclients-hyperdrive\": \"1.41.0\", \"azureml-train-core\": \"1.41.0\", \"azureml-train-automl\": \"1.41.0\", \"azureml-train-automl-runtime\": \"1.41.0\", \"azureml-train-automl-client\": \"1.41.0\", \"azureml-telemetry\": \"1.41.0\", \"azureml-pipeline-core\": \"1.41.0\", \"azureml-mlflow\": \"1.41.0\", \"azureml-interpret\": \"1.41.0\", \"azureml-inference-server-http\": \"0.4.13\", \"azureml-defaults\": \"1.41.0\", \"azureml-dataset-runtime\": \"1.41.0\", \"azureml-dataprep\": \"3.1.1\", \"azureml-dataprep-rslex\": \"2.5.2\", \"azureml-dataprep-native\": \"38.0.0\", \"azureml-datadrift\": \"1.41.0\", \"azureml-core\": \"1.41.0.post1\", \"azureml-contrib-services\": \"1.41.0\", \"azureml-automl-runtime\": \"1.41.0\", \"azureml-automl-core\": \"1.41.0\"}',\n",
       "  '_aml_system_scenario_identification': 'Remote.Parent',\n",
       "  'ClientType': 'SDK',\n",
       "  'environment_cpu_name': 'AzureML-AutoML-DNN-Vision-GPU',\n",
       "  'environment_cpu_label': 'Latest',\n",
       "  'environment_gpu_name': 'AzureML-AutoML-DNN-Vision-GPU',\n",
       "  'environment_gpu_label': 'Latest',\n",
       "  'root_attribution': 'AutoMLImageSDK',\n",
       "  'attribution': 'AutoML',\n",
       "  'Orchestrator': 'AutoML',\n",
       "  'CancelUri': 'https://4d4fb00f-9775-4919-8b9a-c7d13080d34f.workspace.westeurope.api.azureml.ms/jasmine/v1.0/subscriptions/a8260178-3b6d-4bce-a07e-3aae8c7a62af/resourceGroups/RG-Internship-Ayoub/providers/Microsoft.MachineLearningServices/workspaces/Wally/experimentids/2846fd95-4ded-4f75-b23a-27f2bb088408/cancel/AutoML_29c38490-c58d-4a70-b5e1-b7996e1d4803',\n",
       "  'azureml.git.repository_uri': 'https://github.com/AyoubVD/Find_Waldo.git',\n",
       "  'mlflow.source.git.repoURL': 'https://github.com/AyoubVD/Find_Waldo.git',\n",
       "  'azureml.git.branch': 'main',\n",
       "  'mlflow.source.git.branch': 'main',\n",
       "  'azureml.git.commit': '6bcb245db44054db2fbd9aa2c80d7afa76ae0b32',\n",
       "  'mlflow.source.git.commit': '6bcb245db44054db2fbd9aa2c80d7afa76ae0b32',\n",
       "  'azureml.git.dirty': 'True',\n",
       "  'ClientSdkVersion': '1.41.0',\n",
       "  'snapshotId': '00000000-0000-0000-0000-000000000000'},\n",
       " 'inputDatasets': [{'dataset': {'id': '52d9cb0e-ed6c-49bc-8674-e96f4b832a60'}, 'consumptionDetails': {'type': 'RunInput', 'inputName': 'training_data', 'mechanism': 'Direct'}}, {'dataset': {'id': 'c171d90d-d1f3-4a44-bf6c-badba1de327d'}, 'consumptionDetails': {'type': 'RunInput', 'inputName': 'validation_data', 'mechanism': 'Direct'}}],\n",
       " 'outputDatasets': [],\n",
       " 'logFiles': {},\n",
       " 'submittedBy': 'Ayoub Tizniti'}"
      ]
     },
     "execution_count": 14,
     "metadata": {},
     "output_type": "execute_result"
    }
   ],
   "source": [
    "automl_image_run.wait_for_completion(wait_post_processing=True)\n"
   ]
  },
  {
   "cell_type": "code",
   "execution_count": 15,
   "metadata": {},
   "outputs": [],
   "source": [
    "from azureml.automl.core.shared.constants import ImageTask\n",
    "from azureml.train.automl import AutoMLImageConfig\n",
    "from azureml.train.hyperdrive import BanditPolicy, RandomParameterSampling\n",
    "from azureml.train.hyperdrive import choice, uniform\n",
    "\n",
    "parameter_space = {\n",
    "    \"learning_rate\": uniform(0.001, 0.01),\n",
    "    \"model\": choice(\n",
    "        {\n",
    "            \"model_name\": choice(\"vitb16r224\", \"vits16r224\"),\n",
    "            \"number_of_epochs\": choice(15, 30),\n",
    "        },\n",
    "        {\n",
    "            \"model_name\": choice(\"seresnext\", \"resnest50\"),\n",
    "            \"layers_to_freeze\": choice(0, 2),\n",
    "        },\n",
    "    ),\n",
    "}\n",
    "\n",
    "tuning_settings = {\n",
    "    \"iterations\": 10,\n",
    "    \"max_concurrent_iterations\": 2,\n",
    "    \"hyperparameter_sampling\": RandomParameterSampling(parameter_space),\n",
    "    \"early_termination_policy\": BanditPolicy(\n",
    "        evaluation_interval=2, slack_factor=0.2, delay_evaluation=6\n",
    "    ),\n",
    "}\n",
    "\n",
    "automl_image_config = AutoMLImageConfig(\n",
    "    task=ImageTask.IMAGE_CLASSIFICATION,\n",
    "    compute_target=compute_target,\n",
    "    training_data=training_dataset,\n",
    "    validation_data=validation_dataset,\n",
    "    **tuning_settings,\n",
    ")"
   ]
  },
  {
   "cell_type": "code",
   "execution_count": 16,
   "metadata": {},
   "outputs": [
    {
     "name": "stdout",
     "output_type": "stream",
     "text": [
      "Submitting remote run.\n"
     ]
    },
    {
     "data": {
      "text/html": [
       "<table style=\"width:100%\"><tr><th>Experiment</th><th>Id</th><th>Type</th><th>Status</th><th>Details Page</th><th>Docs Page</th></tr><tr><td>automl-wally-image-multiclass</td><td>AutoML_4de1264e-b45b-4798-86ce-4ce654b180c2</td><td>automl</td><td>NotStarted</td><td><a href=\"https://ml.azure.com/runs/AutoML_4de1264e-b45b-4798-86ce-4ce654b180c2?wsid=/subscriptions/a8260178-3b6d-4bce-a07e-3aae8c7a62af/resourcegroups/RG-Internship-Ayoub/workspaces/Wally&amp;tid=b3680828-8bce-4405-9349-17844fcea2c9\" target=\"_blank\" rel=\"noopener\">Link to Azure Machine Learning studio</a></td><td><a href=\"https://docs.microsoft.com/en-us/python/api/overview/azure/ml/intro?view=azure-ml-py\" target=\"_blank\" rel=\"noopener\">Link to Documentation</a></td></tr></table>"
      ],
      "text/plain": [
       "<IPython.core.display.HTML object>"
      ]
     },
     "metadata": {},
     "output_type": "display_data"
    }
   ],
   "source": [
    "automl_image_run = experiment.submit(automl_image_config)\n"
   ]
  },
  {
   "cell_type": "code",
   "execution_count": 17,
   "metadata": {},
   "outputs": [
    {
     "data": {
      "text/plain": [
       "{'runId': 'AutoML_4de1264e-b45b-4798-86ce-4ce654b180c2',\n",
       " 'target': 'gpu-cluster-nc6',\n",
       " 'status': 'Completed',\n",
       " 'startTimeUtc': '2022-05-03T12:04:19.319972Z',\n",
       " 'endTimeUtc': '2022-05-03T12:40:55.776718Z',\n",
       " 'services': {},\n",
       " 'properties': {'num_iterations': '1',\n",
       "  'training_type': 'TrainFull',\n",
       "  'acquisition_function': 'EI',\n",
       "  'primary_metric': 'accuracy',\n",
       "  'train_split': '0',\n",
       "  'acquisition_parameter': '0',\n",
       "  'num_cross_validation': None,\n",
       "  'target': 'gpu-cluster-nc6',\n",
       "  'AMLSettingsJsonString': '{\"path\":null,\"name\":\"automl-wally-image-multiclass\",\"subscription_id\":\"a8260178-3b6d-4bce-a07e-3aae8c7a62af\",\"resource_group\":\"RG-Internship-Ayoub\",\"workspace_name\":\"Wally\",\"region\":\"westeurope\",\"compute_target\":\"gpu-cluster-nc6\",\"spark_service\":null,\"azure_service\":\"remote\",\"many_models\":false,\"pipeline_fetch_max_batch_size\":1,\"enable_batch_run\":true,\"enable_run_restructure\":false,\"start_auxiliary_runs_before_parent_complete\":false,\"enable_code_generation\":false,\"iterations\":1,\"primary_metric\":\"accuracy\",\"task_type\":\"image-classification\",\"positive_label\":null,\"data_script\":null,\"test_size\":0.0,\"test_include_predictions_only\":false,\"validation_size\":0.0,\"n_cross_validations\":null,\"y_min\":null,\"y_max\":null,\"num_classes\":null,\"featurization\":\"off\",\"_ignore_package_version_incompatibilities\":false,\"is_timeseries\":false,\"max_cores_per_iteration\":1,\"max_concurrent_iterations\":1,\"iteration_timeout_minutes\":null,\"mem_in_mb\":null,\"enforce_time_on_windows\":true,\"experiment_timeout_minutes\":8640,\"experiment_exit_score\":null,\"partition_column_names\":null,\"whitelist_models\":null,\"blacklist_algos\":[\"TensorFlowDNN\",\"TensorFlowLinearRegressor\"],\"supported_models\":[],\"private_models\":[],\"auto_blacklist\":true,\"blacklist_samples_reached\":false,\"exclude_nan_labels\":true,\"verbosity\":20,\"_debug_log\":\"azureml_automl.log\",\"show_warnings\":false,\"model_explainability\":true,\"service_url\":null,\"sdk_url\":null,\"sdk_packages\":null,\"enable_onnx_compatible_models\":false,\"enable_split_onnx_featurizer_estimator_models\":false,\"vm_type\":\"STANDARD_NC6\",\"telemetry_verbosity\":20,\"send_telemetry\":true,\"enable_dnn\":true,\"scenario\":\"Vision\",\"environment_label\":null,\"save_mlflow\":false,\"enable_categorical_indicators\":false,\"force_text_dnn\":false,\"enable_feature_sweeping\":true,\"enable_early_stopping\":true,\"early_stopping_n_iters\":10,\"arguments\":null,\"dataset_id\":\"52d9cb0e-ed6c-49bc-8674-e96f4b832a60\",\"hyperdrive_config\":{\"max_total_jobs\":10,\"max_concurrent_jobs\":2,\"generator_config\":{\"name\":\"RANDOM\",\"parameter_space\":\"{\\\\\"learning_rate\\\\\": [\\\\\"uniform\\\\\", [0.001, 0.01]], \\\\\"model\\\\\": [\\\\\"choice\\\\\", [[{\\\\\"model_name\\\\\": [\\\\\"choice\\\\\", [[\\\\\"vitb16r224\\\\\", \\\\\"vits16r224\\\\\"]]], \\\\\"number_of_epochs\\\\\": [\\\\\"choice\\\\\", [[15, 30]]]}, {\\\\\"model_name\\\\\": [\\\\\"choice\\\\\", [[\\\\\"seresnext\\\\\", \\\\\"resnest50\\\\\"]]], \\\\\"layers_to_freeze\\\\\": [\\\\\"choice\\\\\", [[0, 2]]]}]]]}\",\"properties\":null},\"policy_config\":{\"name\":\"Bandit\",\"properties\":{\"evaluation_interval\":2,\"delay_evaluation\":6,\"slack_factor\":0.2}}},\"validation_dataset_id\":\"c171d90d-d1f3-4a44-bf6c-badba1de327d\",\"run_source\":\"AutoMLImageSDK\",\"metrics\":null,\"enable_metric_confidence\":false,\"enable_ensembling\":false,\"enable_stack_ensembling\":false,\"ensemble_iterations\":null,\"enable_tf\":false,\"enable_subsampling\":false,\"subsample_seed\":null,\"enable_nimbusml\":false,\"enable_streaming\":false,\"force_streaming\":false,\"track_child_runs\":true,\"allowed_private_models\":[],\"label_column_name\":\"label\",\"weight_column_name\":null,\"cv_split_column_names\":null,\"enable_local_managed\":false,\"_local_managed_run_id\":null,\"cost_mode\":1,\"lag_length\":0,\"metric_operation\":\"maximize\",\"preprocess\":false}',\n",
       "  'DataPrepJsonString': '{\\\\\"training_data\\\\\": {\\\\\"datasetId\\\\\": \\\\\"52d9cb0e-ed6c-49bc-8674-e96f4b832a60\\\\\"}, \\\\\"validation_data\\\\\": {\\\\\"datasetId\\\\\": \\\\\"c171d90d-d1f3-4a44-bf6c-badba1de327d\\\\\"}, \\\\\"datasets\\\\\": 0}',\n",
       "  'EnableSubsampling': 'False',\n",
       "  'runTemplate': 'AutoML',\n",
       "  'azureml.runsource': 'AutoMLImageSDK',\n",
       "  'display_task_type': 'image-classification',\n",
       "  'dependencies_versions': '{\"azureml-training-tabular\": \"1.41.0\", \"azureml-train-restclients-hyperdrive\": \"1.41.0\", \"azureml-train-core\": \"1.41.0\", \"azureml-train-automl\": \"1.41.0\", \"azureml-train-automl-runtime\": \"1.41.0\", \"azureml-train-automl-client\": \"1.41.0\", \"azureml-telemetry\": \"1.41.0\", \"azureml-pipeline-core\": \"1.41.0\", \"azureml-mlflow\": \"1.41.0\", \"azureml-interpret\": \"1.41.0\", \"azureml-inference-server-http\": \"0.4.13\", \"azureml-defaults\": \"1.41.0\", \"azureml-dataset-runtime\": \"1.41.0\", \"azureml-dataprep\": \"3.1.1\", \"azureml-dataprep-rslex\": \"2.5.2\", \"azureml-dataprep-native\": \"38.0.0\", \"azureml-datadrift\": \"1.41.0\", \"azureml-core\": \"1.41.0.post1\", \"azureml-contrib-services\": \"1.41.0\", \"azureml-automl-runtime\": \"1.41.0\", \"azureml-automl-core\": \"1.41.0\"}',\n",
       "  '_aml_system_scenario_identification': 'Remote.Parent',\n",
       "  'ClientType': 'SDK',\n",
       "  'environment_cpu_name': 'AzureML-AutoML-DNN-Vision-GPU',\n",
       "  'environment_cpu_label': 'Latest',\n",
       "  'environment_gpu_name': 'AzureML-AutoML-DNN-Vision-GPU',\n",
       "  'environment_gpu_label': 'Latest',\n",
       "  'root_attribution': 'AutoMLImageSDK',\n",
       "  'attribution': 'AutoML',\n",
       "  'Orchestrator': 'AutoML',\n",
       "  'CancelUri': 'https://4d4fb00f-9775-4919-8b9a-c7d13080d34f.workspace.westeurope.api.azureml.ms/jasmine/v1.0/subscriptions/a8260178-3b6d-4bce-a07e-3aae8c7a62af/resourceGroups/RG-Internship-Ayoub/providers/Microsoft.MachineLearningServices/workspaces/Wally/experimentids/2846fd95-4ded-4f75-b23a-27f2bb088408/cancel/AutoML_4de1264e-b45b-4798-86ce-4ce654b180c2',\n",
       "  'azureml.git.repository_uri': 'https://github.com/AyoubVD/Find_Waldo.git',\n",
       "  'mlflow.source.git.repoURL': 'https://github.com/AyoubVD/Find_Waldo.git',\n",
       "  'azureml.git.branch': 'main',\n",
       "  'mlflow.source.git.branch': 'main',\n",
       "  'azureml.git.commit': '688b1be4547293ed70d3d9732e4e40fc668a5fb8',\n",
       "  'mlflow.source.git.commit': '688b1be4547293ed70d3d9732e4e40fc668a5fb8',\n",
       "  'azureml.git.dirty': 'True',\n",
       "  'ClientSdkVersion': '1.41.0',\n",
       "  'snapshotId': '00000000-0000-0000-0000-000000000000'},\n",
       " 'inputDatasets': [{'dataset': {'id': '52d9cb0e-ed6c-49bc-8674-e96f4b832a60'}, 'consumptionDetails': {'type': 'RunInput', 'inputName': 'training_data', 'mechanism': 'Direct'}}, {'dataset': {'id': 'c171d90d-d1f3-4a44-bf6c-badba1de327d'}, 'consumptionDetails': {'type': 'RunInput', 'inputName': 'validation_data', 'mechanism': 'Direct'}}],\n",
       " 'outputDatasets': [],\n",
       " 'logFiles': {},\n",
       " 'submittedBy': 'Ayoub Tizniti'}"
      ]
     },
     "execution_count": 17,
     "metadata": {},
     "output_type": "execute_result"
    }
   ],
   "source": [
    "automl_image_run.wait_for_completion(wait_post_processing=True)\n"
   ]
  },
  {
   "cell_type": "code",
   "execution_count": 18,
   "metadata": {},
   "outputs": [
    {
     "data": {
      "text/html": [
       "<table style=\"width:100%\"><tr><th>Experiment</th><th>Id</th><th>Type</th><th>Status</th><th>Details Page</th><th>Docs Page</th></tr><tr><td>automl-wally-image-multiclass</td><td>AutoML_4de1264e-b45b-4798-86ce-4ce654b180c2_HD</td><td>hyperdrive</td><td>Completed</td><td><a href=\"https://ml.azure.com/runs/AutoML_4de1264e-b45b-4798-86ce-4ce654b180c2_HD?wsid=/subscriptions/a8260178-3b6d-4bce-a07e-3aae8c7a62af/resourcegroups/RG-Internship-Ayoub/workspaces/Wally&amp;tid=b3680828-8bce-4405-9349-17844fcea2c9\" target=\"_blank\" rel=\"noopener\">Link to Azure Machine Learning studio</a></td><td><a href=\"https://docs.microsoft.com/en-us/python/api/azureml-core/azureml.core.run.Run?view=azure-ml-py\" target=\"_blank\" rel=\"noopener\">Link to Documentation</a></td></tr></table>"
      ],
      "text/plain": [
       "Run(Experiment: automl-wally-image-multiclass,\n",
       "Id: AutoML_4de1264e-b45b-4798-86ce-4ce654b180c2_HD,\n",
       "Type: hyperdrive,\n",
       "Status: Completed)"
      ]
     },
     "execution_count": 18,
     "metadata": {},
     "output_type": "execute_result"
    }
   ],
   "source": [
    "from azureml.core import Run\n",
    "\n",
    "hyperdrive_run = Run(experiment=experiment, run_id=automl_image_run.id + \"_HD\")\n",
    "hyperdrive_run\n"
   ]
  },
  {
   "cell_type": "code",
   "execution_count": 19,
   "metadata": {},
   "outputs": [],
   "source": [
    "# Register the model from the best run\n",
    "\n",
    "best_child_run = automl_image_run.get_best_child()\n",
    "model_name = best_child_run.properties[\"model_name\"]\n",
    "model = best_child_run.register_model(\n",
    "    model_name=model_name, model_path=\"outputs/model.pt\"\n",
    ")"
   ]
  },
  {
   "cell_type": "markdown",
   "metadata": {},
   "source": [
    "CHECKPOINT\n"
   ]
  },
  {
   "cell_type": "code",
   "execution_count": 20,
   "metadata": {},
   "outputs": [
    {
     "name": "stdout",
     "output_type": "stream",
     "text": [
      "Found existing compute target\n"
     ]
    }
   ],
   "source": [
    "from azureml.core.compute import ComputeTarget, AksCompute\n",
    "from azureml.exceptions import ComputeTargetException\n",
    "\n",
    "# Choose a name for your cluster\n",
    "aks_name = \"aks-cpu-mc\"\n",
    "# Check to see if the cluster already exists\n",
    "try:\n",
    "    aks_target = ComputeTarget(workspace=ws, name=aks_name)\n",
    "    print(\"Found existing compute target\")\n",
    "except ComputeTargetException:\n",
    "    print(\"Creating a new compute target...\")\n",
    "    # Provision AKS cluster with a CPU machine\n",
    "    prov_config = AksCompute.provisioning_configuration(vm_size=\"STANDARD_D3_V2\")\n",
    "    # Create the cluster\n",
    "    aks_target = ComputeTarget.create(\n",
    "        workspace=ws, name=aks_name, provisioning_configuration=prov_config\n",
    "    )\n",
    "    aks_target.wait_for_completion(show_output=True)"
   ]
  },
  {
   "cell_type": "code",
   "execution_count": 21,
   "metadata": {},
   "outputs": [],
   "source": [
    "from azureml.core.model import InferenceConfig\n",
    "\n",
    "best_child_run.download_file(\n",
    "    \"outputs/scoring_file_v_1_0_0.py\", output_file_path=\"score.py\"\n",
    ")\n",
    "environment = best_child_run.get_environment()\n",
    "inference_config = InferenceConfig(entry_script=\"score.py\", environment=environment)"
   ]
  },
  {
   "cell_type": "code",
   "execution_count": 22,
   "metadata": {},
   "outputs": [
    {
     "name": "stdout",
     "output_type": "stream",
     "text": [
      "Tips: You can try get_logs(): https://aka.ms/debugimage#dockerlog or local deployment: https://aka.ms/debugimage#debug-locally to debug if deployment takes longer than 10 minutes.\n",
      "Running\n",
      "2022-05-03 14:41:11+02:00 Registering the environment.\n",
      "2022-05-03 14:41:11+02:00 Use the existing image.\n",
      "2022-05-03 14:41:13+02:00 Checking the status of deployment automl-image-test-cpu-mc..\n",
      "2022-05-03 14:42:03+02:00 Checking the status of inference endpoint automl-image-test-cpu-mc.\n",
      "Succeeded\n",
      "AKS service creation operation finished, operation \"Succeeded\"\n",
      "Healthy\n"
     ]
    }
   ],
   "source": [
    "# Deploy the model from the best run as an AKS web service\n",
    "from azureml.core.webservice import AksWebservice\n",
    "from azureml.core.model import Model\n",
    "\n",
    "aks_config = AksWebservice.deploy_configuration(\n",
    "    autoscale_enabled=True, cpu_cores=1, memory_gb=5, enable_app_insights=True\n",
    ")\n",
    "\n",
    "aks_service = Model.deploy(\n",
    "    ws,\n",
    "    models=[model],\n",
    "    inference_config=inference_config,\n",
    "    deployment_config=aks_config,\n",
    "    deployment_target=aks_target,\n",
    "    name=\"automl-image-test-cpu-mc\",\n",
    "    overwrite=True,\n",
    ")\n",
    "aks_service.wait_for_deployment(show_output=True)\n",
    "print(aks_service.state)"
   ]
  },
  {
   "cell_type": "code",
   "execution_count": 23,
   "metadata": {},
   "outputs": [
    {
     "name": "stdout",
     "output_type": "stream",
     "text": [
      "c:\\Users\\ayoub\\OneDrive\\TMM\\Stage fase 3\\Arinti\\FindWaldo\\FindWaldo\\streamlit\n"
     ]
    }
   ],
   "source": [
    "\n",
    "import os\n",
    "k = os.getcwd()\n",
    "print(k)"
   ]
  },
  {
   "cell_type": "code",
   "execution_count": 48,
   "metadata": {},
   "outputs": [
    {
     "name": "stdout",
     "output_type": "stream",
     "text": [
      "c:\\Users\\ayoub\\OneDrive\\TMM\\Stage fase 3\\Arinti\\FindWaldo\\FindWaldo\\streamlit\n",
      "{\"filename\": \"/tmp/tmpilz_4ht9\", \"probs\": [0.9711996912956238, 0.02880030684173107], \"labels\": [\"Wally\", \"nwally\"]}\n",
      "\n"
     ]
    }
   ],
   "source": [
    "import requests\n",
    "\n",
    "# URL for the web service\n",
    "scoring_uri = aks_service.scoring_uri\n",
    "\n",
    "# If the service is authenticated, set the key or token\n",
    "key, _ = aks_service.get_keys()\n",
    "k = os.getcwd()\n",
    "print(k)\n",
    "sample_image = \"test7.png\"\n",
    "\n",
    "# Load image data\n",
    "data = open(sample_image, \"rb\").read()\n",
    "\n",
    "# Set the content type\n",
    "headers = {\"Content-Type\": \"application/octet-stream\"}\n",
    "\n",
    "# If authentication is enabled, set the authorization header\n",
    "headers[\"Authorization\"] = f\"Bearer {key}\"\n",
    "\n",
    "# Make the request and display the response\n",
    "resp = requests.post(scoring_uri, data, headers=headers)\n",
    "print(resp.text)"
   ]
  },
  {
   "cell_type": "code",
   "execution_count": 49,
   "metadata": {},
   "outputs": [
    {
     "name": "stdout",
     "output_type": "stream",
     "text": [
      "Wally (0.971)\n"
     ]
    },
    {
     "data": {
      "text/plain": [
       "<Figure size 1296x864 with 0 Axes>"
      ]
     },
     "metadata": {},
     "output_type": "display_data"
    },
    {
     "data": {
      "image/png": "[encoded data removed]",
      "text/plain": [
       "<Figure size 1080x1080 with 1 Axes>"
      ]
     },
     "metadata": {
      "needs_background": "light"
     },
     "output_type": "display_data"
    }
   ],
   "source": [
    "%matplotlib inline\n",
    "import matplotlib.pyplot as plt\n",
    "import matplotlib.image as mpimg\n",
    "from PIL import Image\n",
    "import numpy as np\n",
    "import json\n",
    "\n",
    "IMAGE_SIZE = (18, 12)\n",
    "plt.figure(figsize=IMAGE_SIZE)\n",
    "img_np = mpimg.imread(sample_image)\n",
    "img = Image.fromarray(img_np.astype(\"uint8\"), \"RGB\")\n",
    "x, y = img.size\n",
    "\n",
    "fig, ax = plt.subplots(1, figsize=(15, 15))\n",
    "# Display the image\n",
    "ax.imshow(img_np)\n",
    "\n",
    "prediction = json.loads(resp.text)\n",
    "label_index = np.argmax(prediction[\"probs\"])\n",
    "label = prediction[\"labels\"][label_index]\n",
    "conf_score = prediction[\"probs\"][label_index]\n",
    "\n",
    "display_text = \"{} ({})\".format(label, round(conf_score, 3))\n",
    "print(display_text)\n",
    "\n",
    "color = \"red\"\n",
    "plt.text(30, 30, display_text, color=color, fontsize=30)\n",
    "plt.savefig('output.png')\n",
    "plt.show()"
   ]
  },
  {
   "cell_type": "code",
   "execution_count": null,
   "metadata": {},
   "outputs": [],
   "source": []
  }
 ],
 "metadata": {
  "interpreter": {
   "hash": "2411f5f3d7e861251d7502aa3359f9aaff1ebba267f05128cfbfe1330de087e5"
  },
  "kernelspec": {
   "display_name": "Python 3.7.13 ('autoML')",
   "language": "python",
   "name": "python3"
  },
  "language_info": {
   "codemirror_mode": {
    "name": "ipython",
    "version": 3
   },
   "file_extension": ".py",
   "mimetype": "text/x-python",
   "name": "python",
   "nbconvert_exporter": "python",
   "pygments_lexer": "ipython3",
   "version": "3.7.13"
  },
  "orig_nbformat": 4
 },
 "nbformat": 4,
 "nbformat_minor": 2
}
